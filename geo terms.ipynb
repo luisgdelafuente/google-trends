{
 "cells": [
  {
   "cell_type": "code",
   "execution_count": 2,
   "metadata": {},
   "outputs": [
    {
     "name": "stdout",
     "output_type": "stream",
     "text": [
      "                                              ATM near me\n",
      "geoName                                                  \n",
      "Eureka CA                                             100\n",
      "Chico-Redding CA                                       70\n",
      "Yuma AZ-El Centro CA                                   55\n",
      "Palm Springs CA                                        43\n",
      "Reno NV                                                41\n",
      "Fresno-Visalia CA                                      36\n",
      "Medford-Klamath Falls OR                               34\n",
      "Bakersfield CA                                         33\n",
      "Monterey-Salinas CA                                    32\n",
      "Los Angeles CA                                         31\n",
      "Sacramento-Stockton-Modesto CA                         31\n",
      "San Diego CA                                           31\n",
      "Santa Barbara-Santa Maria-San Luis Obispo CA           29\n",
      "San Francisco-Oakland-San Jose CA                      28\n"
     ]
    }
   ],
   "source": [
    "# GEO Terms: lets find where some specific term is searched after inside specific locations. \n",
    "\n",
    "import pytrends as pt\n",
    "from pytrends.request import TrendReq\n",
    "\n",
    "# Initialize the Google Trends object\n",
    "pytrends = TrendReq()\n",
    "\n",
    "# Define the primary keyword, timeframe, and geo\n",
    "keyword = \"ATM near me\"\n",
    "timeframe = \"now 1-d\"\n",
    "geo = 'US-CA'  \n",
    "\n",
    "# Build the payload with the keyword, timeframe, and geo\n",
    "pytrends.build_payload(kw_list=[keyword], timeframe=timeframe, geo=geo)\n",
    "\n",
    "# Get interest by region data for the keyword\n",
    "interest_by_region = pytrends.interest_by_region()\n",
    "\n",
    "# Sort the results by popularity\n",
    "sorted_regions = interest_by_region.sort_values(by=keyword, ascending=False)\n",
    "\n",
    "print(sorted_regions)\n"
   ]
  },
  {
   "cell_type": "code",
   "execution_count": 17,
   "metadata": {},
   "outputs": [
    {
     "name": "stdout",
     "output_type": "stream",
     "text": [
      "                                              ATM near me\n",
      "geoName                                                  \n",
      "Eureka CA                                             100\n",
      "San Diego CA                                           41\n",
      "Fresno-Visalia CA                                      40\n",
      "Santa Barbara-Santa Maria-San Luis Obispo CA           39\n",
      "San Francisco-Oakland-San Jose CA                      36\n",
      "Los Angeles CA                                         35\n",
      "Sacramento-Stockton-Modesto CA                         34\n",
      "Palm Springs CA                                        32\n",
      "Chico-Redding CA                                       30\n",
      "Reno NV                                                29\n",
      "Monterey-Salinas CA                                    26\n",
      "Yuma AZ-El Centro CA                                   25\n",
      "Bakersfield CA                                         19\n",
      "Medford-Klamath Falls OR                               10\n"
     ]
    }
   ],
   "source": [
    "import pytrends as pt\n",
    "from pytrends.request import TrendReq\n",
    "\n",
    "# Initialize the Google Trends object\n",
    "pytrends = TrendReq()\n",
    "\n",
    "# Define the primary keyword, timeframe, and geo\n",
    "keyword = \"ATM near me\"\n",
    "timeframe = \"today 1-m\"\n",
    "geo = 'GB-'  # US is the code for the United States\n",
    "\n",
    "# Build the payload with the keyword, timeframe, and geo\n",
    "pytrends.build_payload(kw_list=[keyword], timeframe=timeframe, geo=geo)\n",
    "\n",
    "# Get interest by region data for the keyword at the DMA level\n",
    "interest_by_dma = pytrends.interest_by_region(resolution='DMA')\n",
    "\n",
    "# Sort the results by popularity\n",
    "sorted_dmas = interest_by_dma.sort_values(by=keyword, ascending=False)\n",
    "\n",
    "print(sorted_dmas)\n"
   ]
  },
  {
   "cell_type": "markdown",
   "metadata": {},
   "source": [
    "(Readme)\n",
    "\n",
    "RESOURCES\n",
    "\n",
    "- Google cagegories & codes   https://github.com/pat310/google-trends-api/wiki/Google-Trends-Categories \n",
    "- Pytrends library            https://pypi.org/project/pytrends/"
   ]
  }
 ],
 "metadata": {
  "kernelspec": {
   "display_name": "Python 3",
   "language": "python",
   "name": "python3"
  },
  "language_info": {
   "codemirror_mode": {
    "name": "ipython",
    "version": 3
   },
   "file_extension": ".py",
   "mimetype": "text/x-python",
   "name": "python",
   "nbconvert_exporter": "python",
   "pygments_lexer": "ipython3",
   "version": "3.11.4"
  },
  "orig_nbformat": 4
 },
 "nbformat": 4,
 "nbformat_minor": 2
}

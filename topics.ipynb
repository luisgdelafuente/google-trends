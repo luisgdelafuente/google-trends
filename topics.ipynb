{
 "cells": [
  {
   "cell_type": "code",
   "execution_count": 2,
   "metadata": {},
   "outputs": [
    {
     "name": "stdout",
     "output_type": "stream",
     "text": [
      "                      topic type                                 topic\n",
      "0                          Topic                       Startup company\n",
      "1               Operating system                     Microsoft Windows\n",
      "2                          Topic                              Business\n",
      "3              Organization type                               Company\n",
      "4               Operating system                            Windows 10\n",
      "5                          Topic                            Technology\n",
      "6               Operating system                                 macOS\n",
      "7               Operating system                            Windows 11\n",
      "8                          Topic                      Computer program\n",
      "9        Software classification                  Computer Application\n",
      "10                         Topic                                  Idea\n",
      "11  Film company role or service                               Funding\n",
      "12                         Topic                               opening\n",
      "13          Government programme                         Startup India\n",
      "14                     Computing                                 Crash\n",
      "15                         Topic                               Booting\n",
      "16                         Topic                            Investment\n",
      "17                     Computing                             Directory\n",
      "18                         Topic                          Lean startup\n",
      "19                        People                            Brazilians\n",
      "20                         Topic                            Innovation\n",
      "21                         Topic                      Entrepreneurship\n",
      "22                         Topic  Computers and information technology\n",
      "23                        Career                          Entrepreneur\n",
      "24                         Topic                    Lean manufacturing\n"
     ]
    }
   ],
   "source": [
    "# Given a term find the related topics \n",
    "\n",
    "import pytrends as pt\n",
    "from pytrends.request import TrendReq\n",
    "import pandas as pd\n",
    "\n",
    "# Initialize the Google Trends object\n",
    "pytrends = TrendReq()\n",
    "\n",
    "# Define the primary keyword and timeframe\n",
    "keyword = \"startup\"\n",
    "timeframe = \"today 1-m\"\n",
    "\n",
    "# Build the payload with the keyword and timeframe\n",
    "pytrends.build_payload(kw_list=[keyword], timeframe=timeframe)\n",
    "\n",
    "# Get related topics for the keyword\n",
    "related_topics = pytrends.related_topics()\n",
    "\n",
    "# Extract the related topics for the keyword \"sneakers\"\n",
    "sneakers_related_topics = related_topics[keyword]['top']\n",
    "\n",
    "# Extracting the relevant columns\n",
    "topic_type = sneakers_related_topics['topic_type']\n",
    "topic_title = sneakers_related_topics['topic_title']\n",
    "\n",
    "# Create a new DataFrame with the desired columns\n",
    "final_table = pd.DataFrame({\n",
    "    'topic type': topic_type,\n",
    "    'topic': topic_title,\n",
    "})\n",
    "\n",
    "print(final_table)\n"
   ]
  },
  {
   "cell_type": "code",
   "execution_count": 14,
   "metadata": {},
   "outputs": [
    {
     "name": "stdout",
     "output_type": "stream",
     "text": [
      "                    topic type                  topic\n",
      "0                Town in Spain     Tamarite de Litera\n",
      "1                        Topic              Townhouse\n",
      "2        Municipality in Spain  Villamayor de Gállego\n",
      "3                  Residential                 Garage\n",
      "4   Mexican actress and singer          Eiza González\n",
      "5        Municipality in Spain              Almudévar\n",
      "6                        Topic       Residential area\n",
      "7        Municipality in Spain                Pedrola\n",
      "8        Municipality in Spain                Alcanar\n",
      "9                        Topic    Les Cases d'Alcanar\n",
      "10               Spanish actor            Oscar Casas\n",
      "11          Spanish film actor            Mario Casas\n",
      "12                       Topic               Zaragoza\n"
     ]
    }
   ],
   "source": [
    "# Given a term find the related topics \n",
    "\n",
    "import pytrends as pt\n",
    "from pytrends.request import TrendReq\n",
    "import pandas as pd\n",
    "\n",
    "# Initialize the Google Trends object\n",
    "pytrends = TrendReq()\n",
    "\n",
    "# Define the primary keyword and timeframe\n",
    "keyword = \"casas\"\n",
    "timeframe = \"today 1-m\"\n",
    "\n",
    "# Build the payload with the keyword and timeframe\n",
    "pytrends.build_payload(kw_list=[keyword], timeframe=timeframe,geo=\"ES-AR\")\n",
    "\n",
    "# Get related topics for the keyword\n",
    "related_topics = pytrends.related_topics()\n",
    "\n",
    "# Extract the related topics for the keyword \"sneakers\"\n",
    "sneakers_related_topics = related_topics[keyword]['rising']\n",
    "\n",
    "# Extracting the relevant columns\n",
    "topic_type = sneakers_related_topics['topic_type']\n",
    "topic_title = sneakers_related_topics['topic_title']\n",
    "\n",
    "# Create a new DataFrame with the desired columns\n",
    "final_table = pd.DataFrame({\n",
    "    'topic type': topic_type,\n",
    "    'topic': topic_title,\n",
    "})\n",
    "\n",
    "print(final_table)\n"
   ]
  }
 ],
 "metadata": {
  "kernelspec": {
   "display_name": "Python 3",
   "language": "python",
   "name": "python3"
  },
  "language_info": {
   "codemirror_mode": {
    "name": "ipython",
    "version": 3
   },
   "file_extension": ".py",
   "mimetype": "text/x-python",
   "name": "python",
   "nbconvert_exporter": "python",
   "pygments_lexer": "ipython3",
   "version": "3.11.4"
  },
  "orig_nbformat": 4
 },
 "nbformat": 4,
 "nbformat_minor": 2
}

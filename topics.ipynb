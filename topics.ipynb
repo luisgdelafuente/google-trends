{
 "cells": [
  {
   "cell_type": "code",
   "execution_count": 9,
   "metadata": {},
   "outputs": [
    {
     "name": "stdout",
     "output_type": "stream",
     "text": [
      "          topic type          topic\n",
      "0               Shoe       Sneakers\n",
      "1               Shoe          Shoes\n",
      "2              Topic          Woman\n",
      "3              Topic            Man\n",
      "4              Topic           Nike\n",
      "5              Color          White\n",
      "6   Footwear company           Nike\n",
      "7              Topic     Nike Store\n",
      "8      Fashion brand         adidas\n",
      "9              Topic           PUMA\n",
      "10             Topic    New Balance\n",
      "11             Topic           PUMA\n",
      "12    Design company           Puma\n",
      "13             Shoes     Air Jordan\n",
      "14             Topic        Leather\n",
      "15             Topic           Veja\n",
      "16  Footwear company    New Balance\n",
      "17             Topic    New Balance\n",
      "18             Topic       High-top\n",
      "19             Topic       SKECHERS\n",
      "20             Topic       Converse\n",
      "21  Footwear company  Veja Sneakers\n",
      "22             Topic   Golden Goose\n",
      "23              Shoe  Platform shoe\n",
      "24     Fashion brand          Gucci\n"
     ]
    }
   ],
   "source": [
    "# Given a term find the related topics \n",
    "\n",
    "import pytrends as pt\n",
    "from pytrends.request import TrendReq\n",
    "import pandas as pd\n",
    "\n",
    "# Initialize the Google Trends object\n",
    "pytrends = TrendReq()\n",
    "\n",
    "# Define the primary keyword and timeframe\n",
    "keyword = \"sneakers\"\n",
    "timeframe = \"today 1-m\"\n",
    "\n",
    "# Build the payload with the keyword and timeframe\n",
    "pytrends.build_payload(kw_list=[keyword], timeframe=timeframe)\n",
    "\n",
    "# Get related topics for the keyword\n",
    "related_topics = pytrends.related_topics()\n",
    "\n",
    "# Extract the related topics for the keyword \"sneakers\"\n",
    "sneakers_related_topics = related_topics[keyword]['top']\n",
    "\n",
    "# Extracting the relevant columns\n",
    "topic_type = sneakers_related_topics['topic_type']\n",
    "topic_title = sneakers_related_topics['topic_title']\n",
    "\n",
    "# Create a new DataFrame with the desired columns\n",
    "final_table = pd.DataFrame({\n",
    "    'topic type': topic_type,\n",
    "    'topic': topic_title,\n",
    "})\n",
    "\n",
    "print(final_table)\n"
   ]
  },
  {
   "cell_type": "code",
   "execution_count": 2,
   "metadata": {},
   "outputs": [
    {
     "name": "stdout",
     "output_type": "stream",
     "text": [
      "Empty DataFrame\n",
      "Columns: [topic type, topic]\n",
      "Index: []\n"
     ]
    }
   ],
   "source": [
    "# Lets shot only related keywords, and remove seconday topics from the list: \n",
    "\n",
    "import pytrends as pt\n",
    "from pytrends.request import TrendReq\n",
    "import pandas as pd\n",
    "\n",
    "# Initialize the Google Trends object\n",
    "pytrends = TrendReq()\n",
    "\n",
    "# Define the primary keyword and timeframe\n",
    "keyword = \"sneakers\"\n",
    "timeframe = \"today 1-m\"\n",
    "\n",
    "# Build the payload with the keyword and timeframe\n",
    "pytrends.build_payload(kw_list=[keyword], timeframe=timeframe)\n",
    "\n",
    "# Get related topics for the keyword\n",
    "related_topics = pytrends.related_topics()\n",
    "\n",
    "# Extract the related topics for the keyword \"sneakers\"\n",
    "sneakers_related_topics = related_topics[keyword]['top']\n",
    "\n",
    "# Filter out results that are not keywords\n",
    "filtered_results = sneakers_related_topics[sneakers_related_topics['topic_type'] == 'Search term']\n",
    "\n",
    "# Extracting the relevant columns\n",
    "topic_type = filtered_results['topic_type']\n",
    "topic_title = filtered_results['topic_title']\n",
    "\n",
    "# Create a new DataFrame with the desired columns\n",
    "final_table = pd.DataFrame({\n",
    "    'topic type': topic_type,\n",
    "    'topic': topic_title,\n",
    "})\n",
    "\n",
    "print(final_table)\n"
   ]
  }
 ],
 "metadata": {
  "kernelspec": {
   "display_name": "Python 3",
   "language": "python",
   "name": "python3"
  },
  "language_info": {
   "codemirror_mode": {
    "name": "ipython",
    "version": 3
   },
   "file_extension": ".py",
   "mimetype": "text/x-python",
   "name": "python",
   "nbconvert_exporter": "python",
   "pygments_lexer": "ipython3",
   "version": "3.11.4"
  },
  "orig_nbformat": 4
 },
 "nbformat": 4,
 "nbformat_minor": 2
}

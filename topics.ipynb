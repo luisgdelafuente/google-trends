{
 "cells": [
  {
   "cell_type": "code",
   "execution_count": 1,
   "metadata": {},
   "outputs": [
    {
     "name": "stdout",
     "output_type": "stream",
     "text": [
      "                      topic type                  topic\n",
      "0                          Topic        Startup company\n",
      "1               Operating system      Microsoft Windows\n",
      "2                          Topic               Business\n",
      "3              Organization type                Company\n",
      "4                     Video game               Start-Up\n",
      "5                          Topic             Technology\n",
      "6               Operating system             Windows 10\n",
      "7               Operating system                  macOS\n",
      "8               Operating system             Windows 11\n",
      "9                          Topic       Computer program\n",
      "10                     Computing                  Crash\n",
      "11                         Topic                   Idea\n",
      "12  Film company role or service                Funding\n",
      "13                         Topic             Investment\n",
      "14                         Topic                Booting\n",
      "15             Software grouping               Software\n",
      "16       Software classification   Computer Application\n",
      "17                     Computing              Directory\n",
      "18        South Korean TV series               Start-Up\n",
      "19                     Computing                   User\n",
      "20                         Topic  Black screen of death\n",
      "21                     Economics               Industry\n",
      "22                         Topic       Operating system\n",
      "23                         Topic        Venture capital\n",
      "24                         Topic               Investor\n"
     ]
    }
   ],
   "source": [
    "# Given a term find the related topics \n",
    "\n",
    "import pytrends as pt\n",
    "from pytrends.request import TrendReq\n",
    "import pandas as pd\n",
    "\n",
    "# Initialize the Google Trends object\n",
    "pytrends = TrendReq()\n",
    "\n",
    "# Define the primary keyword and timeframe\n",
    "keyword = \"startup\"\n",
    "timeframe = \"today 1-m\"\n",
    "\n",
    "# Build the payload with the keyword and timeframe\n",
    "pytrends.build_payload(kw_list=[keyword], timeframe=timeframe)\n",
    "\n",
    "# Get related topics for the keyword\n",
    "related_topics = pytrends.related_topics()\n",
    "\n",
    "# Extract the related topics for the keyword \"sneakers\"\n",
    "sneakers_related_topics = related_topics[keyword]['top']\n",
    "\n",
    "# Extracting the relevant columns\n",
    "topic_type = sneakers_related_topics['topic_type']\n",
    "topic_title = sneakers_related_topics['topic_title']\n",
    "\n",
    "# Create a new DataFrame with the desired columns\n",
    "final_table = pd.DataFrame({\n",
    "    'topic type': topic_type,\n",
    "    'topic': topic_title,\n",
    "})\n",
    "\n",
    "print(final_table)\n"
   ]
  },
  {
   "cell_type": "code",
   "execution_count": 2,
   "metadata": {},
   "outputs": [
    {
     "name": "stdout",
     "output_type": "stream",
     "text": [
      "   topic type                                 topic\n",
      "0       Topic                   Unit of measurement\n",
      "1       Topic                             Inventory\n",
      "2       Topic                 Computer data storage\n",
      "3       Topic                                  true\n",
      "4       Topic                                 gross\n",
      "5       Topic                         Marginal cost\n",
      "6       Topic                            Multimedia\n",
      "7       Topic                             increased\n",
      "8       Topic                         Entertainment\n",
      "9       Topic  Risk | Brilliant Math & Science Wiki\n",
      "10      Topic                            Purchasing\n",
      "11  Computing                                  User\n",
      "12  Marketing                             Promotion\n",
      "13      Topic                           responsible\n",
      "14      Topic                             Structure\n"
     ]
    }
   ],
   "source": [
    "# Given a term find the related topics \n",
    "\n",
    "import pytrends as pt\n",
    "from pytrends.request import TrendReq\n",
    "import pandas as pd\n",
    "\n",
    "# Initialize the Google Trends object\n",
    "pytrends = TrendReq()\n",
    "\n",
    "# Define the primary keyword and timeframe\n",
    "keyword = \"video production\"\n",
    "timeframe = \"today 1-m\"\n",
    "\n",
    "# Build the payload with the keyword and timeframe\n",
    "pytrends.build_payload(kw_list=[keyword], timeframe=timeframe,geo=\"US\")\n",
    "\n",
    "# Get related topics for the keyword\n",
    "related_topics = pytrends.related_topics()\n",
    "\n",
    "# Extract the related topics for the keyword \"sneakers\"\n",
    "sneakers_related_topics = related_topics[keyword]['rising']\n",
    "\n",
    "# Extracting the relevant columns\n",
    "topic_type = sneakers_related_topics['topic_type']\n",
    "topic_title = sneakers_related_topics['topic_title']\n",
    "\n",
    "# Create a new DataFrame with the desired columns\n",
    "final_table = pd.DataFrame({\n",
    "    'topic type': topic_type,\n",
    "    'topic': topic_title,\n",
    "})\n",
    "\n",
    "print(final_table)\n"
   ]
  }
 ],
 "metadata": {
  "kernelspec": {
   "display_name": "Python 3",
   "language": "python",
   "name": "python3"
  },
  "language_info": {
   "codemirror_mode": {
    "name": "ipython",
    "version": 3
   },
   "file_extension": ".py",
   "mimetype": "text/x-python",
   "name": "python",
   "nbconvert_exporter": "python",
   "pygments_lexer": "ipython3",
   "version": "3.11.4"
  },
  "orig_nbformat": 4
 },
 "nbformat": 4,
 "nbformat_minor": 2
}

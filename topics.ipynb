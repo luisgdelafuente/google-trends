{
 "cells": [
  {
   "cell_type": "code",
   "execution_count": 3,
   "metadata": {},
   "outputs": [
    {
     "name": "stdout",
     "output_type": "stream",
     "text": [
      "   topic type          topic\n",
      "0         NaN       Sneakers\n",
      "1         NaN          Shoes\n",
      "2         NaN          Woman\n",
      "3         NaN            Man\n",
      "4         NaN           Nike\n",
      "5         NaN          White\n",
      "6         NaN     Nike Store\n",
      "7         NaN           Nike\n",
      "8         NaN         adidas\n",
      "9         NaN           PUMA\n",
      "10        NaN    New Balance\n",
      "11        NaN           PUMA\n",
      "12        NaN           Puma\n",
      "13        NaN     Air Jordan\n",
      "14        NaN        Leather\n",
      "15        NaN    New Balance\n",
      "16        NaN    New Balance\n",
      "17        NaN           Veja\n",
      "18        NaN       High-top\n",
      "19        NaN       SKECHERS\n",
      "20        NaN       Converse\n",
      "21        NaN  Veja Sneakers\n",
      "22        NaN   Golden Goose\n",
      "23        NaN          Gucci\n",
      "24        NaN          ASICS\n"
     ]
    }
   ],
   "source": [
    "# Given a term find the related topics \n",
    "\n",
    "import pytrends as pt\n",
    "from pytrends.request import TrendReq\n",
    "import pandas as pd\n",
    "\n",
    "# Initialize the Google Trends object\n",
    "pytrends = TrendReq()\n",
    "\n",
    "# Define the primary keyword and timeframe\n",
    "keyword = \"sneakers\"\n",
    "timeframe = \"today 1-m\"\n",
    "\n",
    "# Build the payload with the keyword and timeframe\n",
    "pytrends.build_payload(kw_list=[keyword], timeframe=timeframe)\n",
    "\n",
    "# Get related topics for the keyword\n",
    "related_topics = pytrends.related_topics()\n",
    "\n",
    "# Extract the related topics for the keyword \"sneakers\"\n",
    "sneakers_related_topics = related_topics[keyword]['top']\n",
    "\n",
    "# Extracting the relevant columns\n",
    "topic_type = sneakers_related_topics['topic_type']\n",
    "topic_title = sneakers_related_topics['topic_title']\n",
    "\n",
    "# Create a new DataFrame with the desired columns\n",
    "final_table = pd.DataFrame({\n",
    "    'topic type': topic_type,\n",
    "    'topic': topic_title,\n",
    "})\n",
    "\n",
    "print(final_table)\n"
   ]
  }
 ],
 "metadata": {
  "kernelspec": {
   "display_name": "Python 3",
   "language": "python",
   "name": "python3"
  },
  "language_info": {
   "codemirror_mode": {
    "name": "ipython",
    "version": 3
   },
   "file_extension": ".py",
   "mimetype": "text/x-python",
   "name": "python",
   "nbconvert_exporter": "python",
   "pygments_lexer": "ipython3",
   "version": "3.11.4"
  },
  "orig_nbformat": 4
 },
 "nbformat": 4,
 "nbformat_minor": 2
}

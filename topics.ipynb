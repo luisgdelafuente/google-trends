{
 "cells": [
  {
   "cell_type": "code",
   "execution_count": 2,
   "metadata": {},
   "outputs": [
    {
     "name": "stdout",
     "output_type": "stream",
     "text": [
      "                  topic type                                 topic\n",
      "0                      Topic                                  News\n",
      "1                      Topic                            Technology\n",
      "2                      Topic                 Technology journalism\n",
      "3        Branch of knowledge                               Science\n",
      "4      Country in South Asia                                 India\n",
      "5                      Topic                                 Stock\n",
      "6                      Topic                           Information\n",
      "7                      Topic  Computers and information technology\n",
      "8                    Finance                                 Share\n",
      "9                    Website                            BBC Online\n",
      "10                     Topic                          BBC Scotland\n",
      "11      Broadcasting company                                   BBC\n",
      "12                     Topic                           Share price\n",
      "13                     Topic               Artificial intelligence\n",
      "14                     Topic                              Business\n",
      "15                Publishing                               Article\n",
      "16  Broadcasting corporation                              BBC News\n",
      "17                     Topic                             Periódico\n",
      "18         Organization type                               Company\n",
      "19             Communication                                 Media\n",
      "20                     Topic                            Freelancer\n",
      "21            Field of study        Science and technology studies\n",
      "22            Field of study                         Communication\n",
      "23                     Topic                               Society\n",
      "24                     Topic                      Online newspaper\n"
     ]
    }
   ],
   "source": [
    "# Given a term find the related topics \n",
    "\n",
    "import pytrends as pt\n",
    "from pytrends.request import TrendReq\n",
    "import pandas as pd\n",
    "\n",
    "# Initialize the Google Trends object\n",
    "pytrends = TrendReq()\n",
    "\n",
    "# Define the primary keyword and timeframe\n",
    "keyword = \"Technology News\"\n",
    "timeframe = \"today 1-m\"\n",
    "\n",
    "# Build the payload with the keyword and timeframe\n",
    "pytrends.build_payload(kw_list=[keyword], timeframe=timeframe)\n",
    "\n",
    "# Get related topics for the keyword\n",
    "related_topics = pytrends.related_topics()\n",
    "\n",
    "# Extract the related topics for the keyword \"sneakers\"\n",
    "sneakers_related_topics = related_topics[keyword]['top']\n",
    "\n",
    "# Extracting the relevant columns\n",
    "topic_type = sneakers_related_topics['topic_type']\n",
    "topic_title = sneakers_related_topics['topic_title']\n",
    "\n",
    "# Create a new DataFrame with the desired columns\n",
    "final_table = pd.DataFrame({\n",
    "    'topic type': topic_type,\n",
    "    'topic': topic_title,\n",
    "})\n",
    "\n",
    "print(final_table)\n"
   ]
  }
 ],
 "metadata": {
  "kernelspec": {
   "display_name": "Python 3",
   "language": "python",
   "name": "python3"
  },
  "language_info": {
   "codemirror_mode": {
    "name": "ipython",
    "version": 3
   },
   "file_extension": ".py",
   "mimetype": "text/x-python",
   "name": "python",
   "nbconvert_exporter": "python",
   "pygments_lexer": "ipython3",
   "version": "3.11.4"
  },
  "orig_nbformat": 4
 },
 "nbformat": 4,
 "nbformat_minor": 2
}

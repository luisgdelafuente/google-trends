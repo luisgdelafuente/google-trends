{
 "cells": [
  {
   "cell_type": "code",
   "execution_count": 2,
   "metadata": {},
   "outputs": [
    {
     "name": "stdout",
     "output_type": "stream",
     "text": [
      "                            topic type                        topic\n",
      "0                                Topic                         News\n",
      "1                           Discipline                      Finance\n",
      "2                                Topic               Financial news\n",
      "3                                Topic                        Stock\n",
      "4           Telecommunications company                          Jio\n",
      "5                                Topic                    Jio Store\n",
      "6                                Topic           Financial services\n",
      "7                              Finance                        Share\n",
      "8                                Topic                  Share price\n",
      "9                                Topic                      Service\n",
      "10                           Newspaper              Financial Times\n",
      "11                           Economics                       Market\n",
      "12                               Topic                 BBC Scotland\n",
      "13                Broadcasting company                          BBC\n",
      "14                             Website                   BBC Online\n",
      "15            Broadcasting corporation                     BBC News\n",
      "16                               Topic                    Periódico\n",
      "17                             Website              BBC News Online\n",
      "18                               Topic                     Business\n",
      "19                  Television channel                     Fox News\n",
      "20  Multinational conglomerate company  Reliance Industries Limited\n",
      "21                   Organization type                      Company\n",
      "22                               Topic          Financial statement\n",
      "23                               Topic              Reliance Market\n"
     ]
    }
   ],
   "source": [
    "# Given a term find the related topics \n",
    "\n",
    "import pytrends as pt\n",
    "from pytrends.request import TrendReq\n",
    "import pandas as pd\n",
    "\n",
    "# Initialize the Google Trends object\n",
    "pytrends = TrendReq()\n",
    "\n",
    "# Define the primary keyword and timeframe\n",
    "keyword = \"Financial news\"\n",
    "timeframe = \"today 1-m\"\n",
    "\n",
    "# Build the payload with the keyword and timeframe\n",
    "pytrends.build_payload(kw_list=[keyword], timeframe=timeframe)\n",
    "\n",
    "# Get related topics for the keyword\n",
    "related_topics = pytrends.related_topics()\n",
    "\n",
    "# Extract the related topics for the keyword \"sneakers\"\n",
    "sneakers_related_topics = related_topics[keyword]['top']\n",
    "\n",
    "# Extracting the relevant columns\n",
    "topic_type = sneakers_related_topics['topic_type']\n",
    "topic_title = sneakers_related_topics['topic_title']\n",
    "\n",
    "# Create a new DataFrame with the desired columns\n",
    "final_table = pd.DataFrame({\n",
    "    'topic type': topic_type,\n",
    "    'topic': topic_title,\n",
    "})\n",
    "\n",
    "print(final_table)\n"
   ]
  }
 ],
 "metadata": {
  "kernelspec": {
   "display_name": "Python 3",
   "language": "python",
   "name": "python3"
  },
  "language_info": {
   "codemirror_mode": {
    "name": "ipython",
    "version": 3
   },
   "file_extension": ".py",
   "mimetype": "text/x-python",
   "name": "python",
   "nbconvert_exporter": "python",
   "pygments_lexer": "ipython3",
   "version": "3.11.4"
  },
  "orig_nbformat": 4
 },
 "nbformat": 4,
 "nbformat_minor": 2
}

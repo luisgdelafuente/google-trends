{
 "cells": [
  {
   "cell_type": "markdown",
   "metadata": {},
   "source": [
    "Google Trends' related_queries method returns search terms that users have entered into Google. These terms can be phrases or combinations of words that may seem topic-like but are still considered search queries by Google Trends."
   ]
  },
  {
   "cell_type": "code",
   "execution_count": 1,
   "metadata": {},
   "outputs": [
    {
     "ename": "TooManyRequestsError",
     "evalue": "The request failed: Google returned a response with code 429",
     "output_type": "error",
     "traceback": [
      "\u001b[1;31m---------------------------------------------------------------------------\u001b[0m",
      "\u001b[1;31mTooManyRequestsError\u001b[0m                      Traceback (most recent call last)",
      "\u001b[1;32mluisgdelafuente\\google-trends\\rankings.ipynb Cell 2\u001b[0m line \u001b[0;36m1\n\u001b[0;32m     <a href='vscode-notebook-cell://github/luisgdelafuente/google-trends/rankings.ipynb#W1sdnNjb2RlLXZmcw%3D%3D?line=13'>14</a>\u001b[0m pytrends\u001b[39m.\u001b[39mbuild_payload(kw_list\u001b[39m=\u001b[39m[keyword], timeframe\u001b[39m=\u001b[39mtimeframe)\n\u001b[0;32m     <a href='vscode-notebook-cell://github/luisgdelafuente/google-trends/rankings.ipynb#W1sdnNjb2RlLXZmcw%3D%3D?line=15'>16</a>\u001b[0m \u001b[39m# Get related queries for the keyword\u001b[39;00m\n\u001b[1;32m---> <a href='vscode-notebook-cell://github/luisgdelafuente/google-trends/rankings.ipynb#W1sdnNjb2RlLXZmcw%3D%3D?line=16'>17</a>\u001b[0m related_queries \u001b[39m=\u001b[39m pytrends\u001b[39m.\u001b[39;49mrelated_queries()\n\u001b[0;32m     <a href='vscode-notebook-cell://github/luisgdelafuente/google-trends/rankings.ipynb#W1sdnNjb2RlLXZmcw%3D%3D?line=18'>19</a>\u001b[0m \u001b[39m# Extract top related terms for the keyword\u001b[39;00m\n\u001b[0;32m     <a href='vscode-notebook-cell://github/luisgdelafuente/google-trends/rankings.ipynb#W1sdnNjb2RlLXZmcw%3D%3D?line=19'>20</a>\u001b[0m top_related_terms \u001b[39m=\u001b[39m related_queries[keyword][\u001b[39m'\u001b[39m\u001b[39mtop\u001b[39m\u001b[39m'\u001b[39m]\n",
      "File \u001b[1;32mc:\\Python\\Lib\\site-packages\\pytrends\\request.py:440\u001b[0m, in \u001b[0;36mTrendReq.related_queries\u001b[1;34m(self)\u001b[0m\n\u001b[0;32m    437\u001b[0m related_payload[\u001b[39m'\u001b[39m\u001b[39mtz\u001b[39m\u001b[39m'\u001b[39m] \u001b[39m=\u001b[39m \u001b[39mself\u001b[39m\u001b[39m.\u001b[39mtz\n\u001b[0;32m    439\u001b[0m \u001b[39m# parse the returned json\u001b[39;00m\n\u001b[1;32m--> 440\u001b[0m req_json \u001b[39m=\u001b[39m \u001b[39mself\u001b[39;49m\u001b[39m.\u001b[39;49m_get_data(\n\u001b[0;32m    441\u001b[0m     url\u001b[39m=\u001b[39;49mTrendReq\u001b[39m.\u001b[39;49mRELATED_QUERIES_URL,\n\u001b[0;32m    442\u001b[0m     method\u001b[39m=\u001b[39;49mTrendReq\u001b[39m.\u001b[39;49mGET_METHOD,\n\u001b[0;32m    443\u001b[0m     trim_chars\u001b[39m=\u001b[39;49m\u001b[39m5\u001b[39;49m,\n\u001b[0;32m    444\u001b[0m     params\u001b[39m=\u001b[39;49mrelated_payload,\n\u001b[0;32m    445\u001b[0m )\n\u001b[0;32m    447\u001b[0m \u001b[39m# top queries\u001b[39;00m\n\u001b[0;32m    448\u001b[0m \u001b[39mtry\u001b[39;00m:\n",
      "File \u001b[1;32mc:\\Python\\Lib\\site-packages\\pytrends\\request.py:159\u001b[0m, in \u001b[0;36mTrendReq._get_data\u001b[1;34m(self, url, method, trim_chars, **kwargs)\u001b[0m\n\u001b[0;32m    157\u001b[0m \u001b[39melse\u001b[39;00m:\n\u001b[0;32m    158\u001b[0m     \u001b[39mif\u001b[39;00m response\u001b[39m.\u001b[39mstatus_code \u001b[39m==\u001b[39m status_codes\u001b[39m.\u001b[39mcodes\u001b[39m.\u001b[39mtoo_many_requests:\n\u001b[1;32m--> 159\u001b[0m         \u001b[39mraise\u001b[39;00m exceptions\u001b[39m.\u001b[39mTooManyRequestsError\u001b[39m.\u001b[39mfrom_response(response)\n\u001b[0;32m    160\u001b[0m     \u001b[39mraise\u001b[39;00m exceptions\u001b[39m.\u001b[39mResponseError\u001b[39m.\u001b[39mfrom_response(response)\n",
      "\u001b[1;31mTooManyRequestsError\u001b[0m: The request failed: Google returned a response with code 429"
     ]
    }
   ],
   "source": [
    "# Find the top and rising related terms of a specific keyword (\"sneakers\")\n",
    "\n",
    "import pytrends as pt\n",
    "from pytrends.request import TrendReq\n",
    "\n",
    "# Initialize the Google Trends object\n",
    "pytrends = TrendReq()\n",
    "\n",
    "# Define the primary keyword and timeframe\n",
    "keyword = \"sneakers\"\n",
    "timeframe = \"now 1-d\"\n",
    "\n",
    "# Build the payload with the keyword and timeframe\n",
    "pytrends.build_payload(kw_list=[keyword], timeframe=timeframe)\n",
    "\n",
    "# Get related queries for the keyword\n",
    "related_queries = pytrends.related_queries()\n",
    "\n",
    "# Extract top related terms for the keyword\n",
    "top_related_terms = related_queries[keyword]['top']\n",
    "\n",
    "# If there are more than 50 results, limit it to the top 50\n",
    "if len(top_related_terms) > 20:\n",
    "    top_related_terms = top_related_terms.head(50)\n",
    "\n",
    "print(top_related_terms)\n"
   ]
  },
  {
   "cell_type": "code",
   "execution_count": null,
   "metadata": {},
   "outputs": [],
   "source": [
    "import pytrends as pt\n",
    "from pytrends.request import TrendReq\n",
    "\n",
    "# Initialize the Google Trends object\n",
    "pytrends = TrendReq()\n",
    "\n",
    "# Define the primary keyword and timeframe\n",
    "keyword = \"near me\"\n",
    "timeframe = \"today 1-m\"\n",
    "\n",
    "# Build the payload with the keyword and timeframe\n",
    "pytrends.build_payload(kw_list=[keyword], timeframe=timeframe, geo=\"US-FL\")\n",
    "\n",
    "# Get related queries for the keyword\n",
    "related_queries = pytrends.related_queries()\n",
    "\n",
    "# Extract top related terms for the keyword\n",
    "top_related_terms = related_queries[keyword]['top']\n",
    "\n",
    "# If there are more than 50 results, limit it to the top 50\n",
    "if len(top_related_terms) > 20:\n",
    "    top_related_terms = top_related_terms.head(50)\n",
    "\n",
    "print(top_related_terms)"
   ]
  },
  {
   "cell_type": "code",
   "execution_count": null,
   "metadata": {},
   "outputs": [],
   "source": [
    "# Find the top and rising related terms of a specific keyword (\"sneakers\")\n",
    "\n",
    "import pytrends as pt\n",
    "from pytrends.request import TrendReq\n",
    "\n",
    "# Initialize the Google Trends object\n",
    "pytrends = TrendReq()\n",
    "\n",
    "\n",
    "# Define the primary keyword and timeframe\n",
    "keyword = \"inmobiliaria\"\n",
    "timeframe = \"today 1-m\"\n",
    "\n",
    "# Build the payload with the keyword and timeframe\n",
    "pytrends.build_payload(kw_list=[keyword], timeframe=timeframe, geo=\"ES-AR\")\n",
    "\n",
    "# Get related queries for the keyword\n",
    "related_queries = pytrends.related_queries()\n",
    "\n",
    "# Extract rising related terms for the keyword\n",
    "rising_related_terms = related_queries[keyword]['top']\n",
    "\n",
    "# If there are more than 50 results, limit it to the top 50\n",
    "if len(rising_related_terms) > 20:\n",
    "    rising_related_terms = rising_related_terms.head(50)\n",
    "\n",
    "print(rising_related_terms)\n"
   ]
  },
  {
   "cell_type": "code",
   "execution_count": null,
   "metadata": {},
   "outputs": [],
   "source": [
    "import pytrends as pt\n",
    "from pytrends.request import TrendReq\n",
    "import time  # Import the time module\n",
    "\n",
    "# Initialize the Google Trends object\n",
    "pytrends = TrendReq()\n",
    "\n",
    "# Define the primary keyword and timeframe\n",
    "keyword = \"inmobiliaria\"\n",
    "timeframe = \"today 1-d\"\n",
    "\n",
    "# Build the payload with the keyword and timeframe\n",
    "pytrends.build_payload(kw_list=[keyword], timeframe=timeframe, geo=\"es\")\n",
    "\n",
    "# Get related queries for the keyword\n",
    "related_queries = pytrends.related_queries()\n",
    "\n",
    "# Extract rising related terms for the keyword\n",
    "rising_related_terms = related_queries[keyword]['top']\n",
    "\n",
    "# If there are more than 20 results, limit it to the top 20\n",
    "if len(rising_related_terms) > 20:\n",
    "    rising_related_terms = rising_related_terms.head(20)\n",
    "\n",
    "print(rising_related_terms)\n",
    "\n",
    "# Add a sleep interval (e.g., 2 seconds) to avoid making requests too quickly\n",
    "time.sleep(3)\n"
   ]
  },
  {
   "cell_type": "code",
   "execution_count": 2,
   "metadata": {},
   "outputs": [
    {
     "name": "stdout",
     "output_type": "stream",
     "text": [
      "Related Keywords:\n",
      "1. https://www.snipes.es/c/shoes/sneaker\n",
      "2. https://www.courir.es/es/c/zapatos/sneakers/\n",
      "3. https://www.footlocker.es/\n",
      "4. https://www.sniker.es/\n",
      "5. https://www.zalando.es/hombre-streetwear-sneakers-tendencias/\n",
      "6. https://www.sneakersplace.com/\n",
      "7. https://www.jdsports.es/p/zapatillas/\n",
      "8. https://noirfonce.es/collections/sneakers\n",
      "9. https://www.deichmann.com/ES/es/shop/hombre/hombre-zapatos/hombre-sneakers.cat\n",
      "10. https://footdistrict.com/\n",
      "11. https://www.yellowshop.es/collections/sneakers-de-mujer\n",
      "12. https://www.alvaromoreno.com/es_es/hombre/zapatos/sneakers/\n",
      "13. https://gioseppo.com/es-es/sneakers-mujer\n",
      "14. https://www.merkal.com/hombre/deportivas/sneakers\n",
      "15. https://www.newbalance.es/es/hombre/zapatillas/sneakers/\n",
      "16. https://www.invain.com/es-es/hombre/calzado/zapatillas\n",
      "17. https://www.idealo.es/cat/18817/sneakers.html\n",
      "18. https://www.thesneakerone.com/\n",
      "19. https://pianno39.com/es/28-calzado-sneakers\n",
      "20. https://www.numbersneakers.com/\n",
      "21. https://www.sizeofficial.es/hombre/calzado/\n",
      "22. https://premiumsneakershop.com/\n",
      "23. https://es.wikipedia.org/wiki/Sneaker\n",
      "24. https://24hrs.es/es/sneakers-mujer-106\n",
      "25. https://es.sansha.com/calzado-danza/sneakers-deportivas-danza.html\n"
     ]
    }
   ],
   "source": [
    "from googlesearch import search\n",
    "\n",
    "# Define the search term for which you want related keywords\n",
    "search_term = \"sneakers\"\n",
    "\n",
    "# Set the number of related queries to retrieve (you can adjust this number)\n",
    "num_related_queries = 25\n",
    "\n",
    "# Perform the search and get related queries\n",
    "related_queries = list(search(search_term, num_related_queries * 2, num_related_queries * 2))\n",
    "\n",
    "# Take the first 'num_related_queries' related queries\n",
    "related_queries = related_queries[:num_related_queries]\n",
    "\n",
    "# Print the related queries\n",
    "print(\"Related Keywords:\")\n",
    "for i, keyword in enumerate(related_queries):\n",
    "    print(f\"{i + 1}. {keyword}\")\n",
    "\n"
   ]
  }
 ],
 "metadata": {
  "kernelspec": {
   "display_name": "Python 3",
   "language": "python",
   "name": "python3"
  },
  "language_info": {
   "codemirror_mode": {
    "name": "ipython",
    "version": 3
   },
   "file_extension": ".py",
   "mimetype": "text/x-python",
   "name": "python",
   "nbconvert_exporter": "python",
   "pygments_lexer": "ipython3",
   "version": "3.11.4"
  },
  "orig_nbformat": 4
 },
 "nbformat": 4,
 "nbformat_minor": 2
}

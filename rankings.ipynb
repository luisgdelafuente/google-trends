{
 "cells": [
  {
   "cell_type": "code",
   "execution_count": 3,
   "metadata": {},
   "outputs": [
    {
     "name": "stdout",
     "output_type": "stream",
     "text": [
      "                             query  value\n",
      "0           shop backpacks on sale  15150\n",
      "1            shop sneakers on sale    500\n",
      "2                          dh gate    300\n",
      "3          girls high top sneakers    110\n",
      "4              volleyball sneakers     70\n",
      "5               converse high tops     60\n",
      "6                    boys sneakers     50\n",
      "7                 lanvins sneakers     50\n",
      "8                   girls sneakers     50\n",
      "9   comfortable sneakers for women     50\n",
      "10                 olukai sneakers     50\n",
      "11                      nike dunks     50\n",
      "12                      footlocker     40\n",
      "13                    lanvin shoes     40\n"
     ]
    }
   ],
   "source": [
    "# Find the top and rising related terms of a specific keyword (\"sneakers\")\n",
    "\n",
    "import pytrends as pt\n",
    "from pytrends.request import TrendReq\n",
    "\n",
    "# Initialize the Google Trends object\n",
    "pytrends = TrendReq()\n",
    "\n",
    "# Define the primary keyword and timeframe\n",
    "keyword = \"sneakers\"\n",
    "timeframe = \"today 1-m\"\n",
    "\n",
    "# Build the payload with the keyword and timeframe\n",
    "pytrends.build_payload(kw_list=[keyword], timeframe=timeframe,geo=\"US\")\n",
    "\n",
    "\n",
    "# Get related queries for the keyword\n",
    "related_queries = pytrends.related_queries()\n",
    "\n",
    "# Extract top related terms for the keyword\n",
    "top_related_terms = related_queries[keyword]['rising']\n",
    "\n",
    "# If there are more than 50 results, limit it to the top 50\n",
    "if len(top_related_terms) > 20:\n",
    "    top_related_terms = top_related_terms.head(50)\n",
    "\n",
    "print(top_related_terms)\n"
   ]
  },
  {
   "cell_type": "code",
   "execution_count": 8,
   "metadata": {},
   "outputs": [
    {
     "name": "stdout",
     "output_type": "stream",
     "text": [
      "                                      query  value\n",
      "0                          sex and the city    100\n",
      "1                     sex offender registry     80\n",
      "2                             sex education     50\n",
      "3                           sex trafficking     46\n",
      "4                                  sex life     45\n",
      "5                           sex in the city     30\n",
      "6                      cigarettes after sex     27\n",
      "7                     sex offenders near me     24\n",
      "8                          sex on the beach     23\n",
      "9                   sex on the beach recipe      9\n",
      "10                         sex shop near me      9\n",
      "11                    sex and the city cast      8\n",
      "12                       sex education cast      8\n",
      "13                             adam and eve      8\n",
      "14                              sex pistols      8\n",
      "15                          sex drive movie      7\n",
      "16                   sex on the beach drink      6\n",
      "17                   sex education season 4      6\n",
      "18                            museum of sex      6\n",
      "19                  better than sex mascara      6\n",
      "20           national sex offender registry      5\n",
      "21                   aidan sex and the city      5\n",
      "22         registered sex offenders near me      4\n",
      "23  can you get pregnant without having sex      1\n"
     ]
    }
   ],
   "source": [
    "# Find the top and rising related terms of a specific keyword (\"sneakers\")\n",
    "\n",
    "import pytrends as pt\n",
    "from pytrends.request import TrendReq\n",
    "\n",
    "# Initialize the Google Trends object\n",
    "pytrends = TrendReq()\n",
    "\n",
    "# Define the primary keyword and timeframe\n",
    "keyword = \"sex\"\n",
    "timeframe = \"today 1-m\"\n",
    "\n",
    "# Build the payload with the keyword and timeframe\n",
    "pytrends.build_payload(kw_list=[keyword], timeframe=timeframe,geo=\"US\")\n",
    "\n",
    "\n",
    "# Get related queries for the keyword\n",
    "related_queries = pytrends.related_queries()\n",
    "\n",
    "# Extract top related terms for the keyword\n",
    "top_related_terms = related_queries[keyword]['top']\n",
    "\n",
    "# If there are more than 50 results, limit it to the top 50\n",
    "if len(top_related_terms) > 20:\n",
    "    top_related_terms = top_related_terms.head(50)\n",
    "\n",
    "print(top_related_terms)"
   ]
  }
 ],
 "metadata": {
  "kernelspec": {
   "display_name": "Python 3",
   "language": "python",
   "name": "python3"
  },
  "language_info": {
   "codemirror_mode": {
    "name": "ipython",
    "version": 3
   },
   "file_extension": ".py",
   "mimetype": "text/x-python",
   "name": "python",
   "nbconvert_exporter": "python",
   "pygments_lexer": "ipython3",
   "version": "3.11.4"
  },
  "orig_nbformat": 4
 },
 "nbformat": 4,
 "nbformat_minor": 2
}

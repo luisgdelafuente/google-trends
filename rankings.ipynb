{
 "cells": [
  {
   "cell_type": "markdown",
   "metadata": {},
   "source": [
    "Google Trends' related_queries method returns search terms that users have entered into Google. These terms can be phrases or combinations of words that may seem topic-like but are still considered search queries by Google Trends."
   ]
  },
  {
   "cell_type": "code",
   "execution_count": 4,
   "metadata": {},
   "outputs": [
    {
     "name": "stdout",
     "output_type": "stream",
     "text": [
      "                   query  value\n",
      "0         sneakers mujer    100\n",
      "1          nike sneakers     84\n",
      "2                   nike     82\n",
      "3        sneakers hombre     68\n",
      "4                 adidas     49\n",
      "5        adidas sneakers     48\n",
      "6       platano sneakers     40\n",
      "7            new balance     29\n",
      "8   new balance sneakers     29\n",
      "9                 jordan     26\n",
      "10               sneaker     25\n",
      "11       sneakers madrid     18\n",
      "12    sneakers barcelona     15\n",
      "13     alexander mcqueen     14\n",
      "14         veja sneakers     13\n",
      "15        apple sneakers     13\n",
      "16              scalpers     13\n",
      "17       dooers sneakers     12\n",
      "18               zalando     11\n",
      "19                    jd      9\n",
      "20                  veja      9\n",
      "21        wanna sneakers      7\n",
      "22           bj sneakers      7\n",
      "23               decimas      6\n",
      "24                 snkrs      6\n"
     ]
    }
   ],
   "source": [
    "# Find the top and rising related terms of a specific keyword (\"sneakers\")\n",
    "\n",
    "import pytrends as pt\n",
    "from pytrends.request import TrendReq\n",
    "\n",
    "# Initialize the Google Trends object\n",
    "pytrends = TrendReq()\n",
    "\n",
    "# Define the primary keyword and timeframe\n",
    "keyword = \"sneakers\"\n",
    "timeframe = \"today 1-m\"\n",
    "\n",
    "# Build the payload with the keyword and timeframe\n",
    "pytrends.build_payload(kw_list=[keyword], timeframe=timeframe, geo=\"ES\")\n",
    "\n",
    "\n",
    "# Get related queries for the keyword\n",
    "related_queries = pytrends.related_queries()\n",
    "\n",
    "# Extract top related terms for the keyword\n",
    "top_related_terms = related_queries[keyword]['top']\n",
    "\n",
    "# If there are more than 50 results, limit it to the top 50\n",
    "if len(top_related_terms) > 20:\n",
    "    top_related_terms = top_related_terms.head(50)\n",
    "\n",
    "print(top_related_terms)\n"
   ]
  },
  {
   "cell_type": "code",
   "execution_count": 6,
   "metadata": {},
   "outputs": [
    {
     "name": "stdout",
     "output_type": "stream",
     "text": [
      "                   query  value\n",
      "0           food near me    100\n",
      "1    restaurants near me     60\n",
      "2        walmart near me     36\n",
      "3     restaurant near me     34\n",
      "4          pizza near me     32\n",
      "5           jobs near me     31\n",
      "6          beach near me     31\n",
      "7         publix near me     28\n",
      "8         stores near me     27\n",
      "9            gas near me     18\n",
      "10       chinese near me     18\n",
      "11     breakfast near me     17\n",
      "12           cvs near me     15\n",
      "13          park near me     14\n",
      "14     walgreens near me     14\n",
      "15        movies near me     12\n",
      "16        target near me     11\n",
      "17           ups near me     10\n",
      "18    home depot near me      9\n",
      "19  things to do near me      9\n",
      "20          mall near me      9\n",
      "21        hotels near me      9\n",
      "22           bar near me      9\n",
      "23     ice cream near me      8\n",
      "24   gas station near me      8\n"
     ]
    }
   ],
   "source": [
    "import pytrends as pt\n",
    "from pytrends.request import TrendReq\n",
    "\n",
    "# Initialize the Google Trends object\n",
    "pytrends = TrendReq()\n",
    "\n",
    "# Define the primary keyword and timeframe\n",
    "keyword = \"near me\"\n",
    "timeframe = \"today 1-m\"\n",
    "\n",
    "# Build the payload with the keyword and timeframe\n",
    "pytrends.build_payload(kw_list=[keyword], timeframe=timeframe, geo=\"US-FL\")\n",
    "\n",
    "# Get related queries for the keyword\n",
    "related_queries = pytrends.related_queries()\n",
    "\n",
    "# Extract top related terms for the keyword\n",
    "top_related_terms = related_queries[keyword]['top']\n",
    "\n",
    "# If there are more than 50 results, limit it to the top 50\n",
    "if len(top_related_terms) > 20:\n",
    "    top_related_terms = top_related_terms.head(50)\n",
    "\n",
    "print(top_related_terms)"
   ]
  },
  {
   "cell_type": "code",
   "execution_count": 19,
   "metadata": {},
   "outputs": [
    {
     "name": "stdout",
     "output_type": "stream",
     "text": [
      "                                                query  value\n",
      "0                           yolanda martinez quien es  10050\n",
      "1                                quien es monica pont   8100\n",
      "2                        quien es simon en culpa tuya   6900\n",
      "3            quien es el asesino en pequeños detalles   6650\n",
      "4                         quien es el abuelo de luffy   5450\n",
      "5                             quien es carolina abril   4450\n",
      "6                 quien es silvina luna y que le paso   3750\n",
      "7            quien es el asesino en el orient express   3600\n",
      "8   asesinato en el orient express quien es el ase...   3400\n",
      "9               pequeños detalles quien es el asesino   3350\n",
      "10             quien es el asesino del orient express   3100\n",
      "11                       quien es maria teresa campos   2650\n",
      "12                             amanece que no es poco   2400\n",
      "13                          non stop quien es el malo   2250\n",
      "14                         quien es el padre de luffy   1550\n",
      "15                                        lluna clark   1200\n",
      "16                              alvise pérez quien es    850\n",
      "17                                    quien es alvise    750\n",
      "18                              quien es alvise perez    650\n",
      "19                       quien es erin carter reparto    110\n",
      "20                              reparto quien es erin    100\n",
      "21                  de quien es el numero de telefono     60\n"
     ]
    }
   ],
   "source": [
    "# Find the top and rising related terms of a specific keyword (\"sneakers\")\n",
    "\n",
    "import pytrends as pt\n",
    "from pytrends.request import TrendReq\n",
    "\n",
    "# Initialize the Google Trends object\n",
    "pytrends = TrendReq()\n",
    "\n",
    "# Define the primary keyword and timeframe\n",
    "keyword = \"quien es\"\n",
    "timeframe = \"now 7-d\"\n",
    "\n",
    "# Build the payload with the keyword and timeframe\n",
    "pytrends.build_payload(kw_list=[keyword], timeframe=timeframe, geo=\"ES\")\n",
    "\n",
    "# Get related queries for the keyword\n",
    "related_queries = pytrends.related_queries()\n",
    "\n",
    "# Extract rising related terms for the keyword\n",
    "rising_related_terms = related_queries[keyword]['rising']\n",
    "\n",
    "# If there are more than 50 results, limit it to the top 50\n",
    "if len(rising_related_terms) > 20:\n",
    "    rising_related_terms = rising_related_terms.head(50)\n",
    "\n",
    "print(rising_related_terms)\n"
   ]
  }
 ],
 "metadata": {
  "kernelspec": {
   "display_name": "Python 3",
   "language": "python",
   "name": "python3"
  },
  "language_info": {
   "codemirror_mode": {
    "name": "ipython",
    "version": 3
   },
   "file_extension": ".py",
   "mimetype": "text/x-python",
   "name": "python",
   "nbconvert_exporter": "python",
   "pygments_lexer": "ipython3",
   "version": "3.11.4"
  },
  "orig_nbformat": 4
 },
 "nbformat": 4,
 "nbformat_minor": 2
}

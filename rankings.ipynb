{
 "cells": [
  {
   "cell_type": "code",
   "execution_count": 3,
   "metadata": {},
   "outputs": [
    {
     "name": "stdout",
     "output_type": "stream",
     "text": [
      "                             query  value\n",
      "0           shop backpacks on sale  15150\n",
      "1            shop sneakers on sale    500\n",
      "2                          dh gate    300\n",
      "3          girls high top sneakers    110\n",
      "4              volleyball sneakers     70\n",
      "5               converse high tops     60\n",
      "6                    boys sneakers     50\n",
      "7                 lanvins sneakers     50\n",
      "8                   girls sneakers     50\n",
      "9   comfortable sneakers for women     50\n",
      "10                 olukai sneakers     50\n",
      "11                      nike dunks     50\n",
      "12                      footlocker     40\n",
      "13                    lanvin shoes     40\n"
     ]
    }
   ],
   "source": [
    "# Find the top and rising related terms of a specific keyword (\"sneakers\")\n",
    "\n",
    "import pytrends as pt\n",
    "from pytrends.request import TrendReq\n",
    "\n",
    "# Initialize the Google Trends object\n",
    "pytrends = TrendReq()\n",
    "\n",
    "# Define the primary keyword and timeframe\n",
    "keyword = \"sneakers\"\n",
    "timeframe = \"today 1-m\"\n",
    "\n",
    "# Build the payload with the keyword and timeframe\n",
    "pytrends.build_payload(kw_list=[keyword], timeframe=timeframe,geo=\"US\")\n",
    "\n",
    "\n",
    "# Get related queries for the keyword\n",
    "related_queries = pytrends.related_queries()\n",
    "\n",
    "# Extract top related terms for the keyword\n",
    "top_related_terms = related_queries[keyword]['rising']\n",
    "\n",
    "# If there are more than 50 results, limit it to the top 50\n",
    "if len(top_related_terms) > 20:\n",
    "    top_related_terms = top_related_terms.head(50)\n",
    "\n",
    "print(top_related_terms)\n"
   ]
  },
  {
   "cell_type": "code",
   "execution_count": 1,
   "metadata": {},
   "outputs": [
    {
     "name": "stdout",
     "output_type": "stream",
     "text": [
      "                          query  value\n",
      "0                  bank near me    100\n",
      "1              bank atm near me    100\n",
      "2                atm near to me     21\n",
      "3           atm deposit near me     15\n",
      "4                         chase     14\n",
      "5             chase atm near me     14\n",
      "6                     chase atm     14\n",
      "7                 chase near me     14\n",
      "8               sbi atm near me     14\n",
      "9                       sbi atm     14\n",
      "10                  sbi near me     14\n",
      "11                  atm machine     12\n",
      "12            union atm near me     12\n",
      "13          atm machine near me     12\n",
      "14      wells fargo atm near me     11\n",
      "15              wells fargo atm     11\n",
      "16          wells fargo near me     11\n",
      "17                  wells fargo     11\n",
      "18              bank of america     10\n",
      "19  bank of america atm near me     10\n",
      "20      bank of america near me     10\n",
      "21          bank of america atm     10\n",
      "22             hdfc atm near me     10\n",
      "23                         hdfc     10\n",
      "24             free atm near me      7\n"
     ]
    }
   ],
   "source": [
    "# Find the top and rising related terms of a specific keyword (\"sneakers\")\n",
    "\n",
    "import pytrends as pt\n",
    "from pytrends.request import TrendReq\n",
    "\n",
    "# Initialize the Google Trends object\n",
    "pytrends = TrendReq()\n",
    "\n",
    "# Define the primary keyword and timeframe\n",
    "keyword = \"atm near me\"\n",
    "timeframe = \"today 1-m\"\n",
    "\n",
    "# Build the payload with the keyword and timeframe\n",
    "pytrends.build_payload(kw_list=[keyword], timeframe=timeframe)\n",
    "\n",
    "\n",
    "# Get related queries for the keyword\n",
    "related_queries = pytrends.related_queries()\n",
    "\n",
    "# Extract top related terms for the keyword\n",
    "top_related_terms = related_queries[keyword]['top']\n",
    "\n",
    "# If there are more than 50 results, limit it to the top 50\n",
    "if len(top_related_terms) > 20:\n",
    "    top_related_terms = top_related_terms.head(50)\n",
    "\n",
    "print(top_related_terms)\n"
   ]
  },
  {
   "cell_type": "code",
   "execution_count": 11,
   "metadata": {},
   "outputs": [
    {
     "name": "stdout",
     "output_type": "stream",
     "text": [
      "                                              ATM near me\n",
      "geoName                                                  \n",
      "Eureka CA                                             100\n",
      "San Diego CA                                           41\n",
      "Fresno-Visalia CA                                      40\n",
      "Santa Barbara-Santa Maria-San Luis Obispo CA           39\n",
      "San Francisco-Oakland-San Jose CA                      36\n",
      "Los Angeles CA                                         35\n",
      "Sacramento-Stockton-Modesto CA                         34\n",
      "Palm Springs CA                                        32\n",
      "Chico-Redding CA                                       30\n",
      "Reno NV                                                29\n",
      "Monterey-Salinas CA                                    26\n",
      "Yuma AZ-El Centro CA                                   25\n",
      "Bakersfield CA                                         19\n",
      "Medford-Klamath Falls OR                               10\n"
     ]
    }
   ],
   "source": [
    "import pytrends as pt\n",
    "from pytrends.request import TrendReq\n",
    "\n",
    "# Initialize the Google Trends object\n",
    "pytrends = TrendReq()\n",
    "\n",
    "# Define the primary keyword, timeframe, and geo\n",
    "keyword = \"ATM near me\"\n",
    "timeframe = \"today 1-m\"\n",
    "geo = 'US-CA'  \n",
    "\n",
    "# Build the payload with the keyword, timeframe, and geo\n",
    "pytrends.build_payload(kw_list=[keyword], timeframe=timeframe, geo=geo)\n",
    "\n",
    "# Get interest by region data for the keyword\n",
    "interest_by_region = pytrends.interest_by_region()\n",
    "\n",
    "# Sort the results by popularity\n",
    "sorted_regions = interest_by_region.sort_values(by=keyword, ascending=False)\n",
    "\n",
    "print(sorted_regions)\n"
   ]
  },
  {
   "cell_type": "code",
   "execution_count": 17,
   "metadata": {},
   "outputs": [
    {
     "name": "stdout",
     "output_type": "stream",
     "text": [
      "                                              ATM near me\n",
      "geoName                                                  \n",
      "Eureka CA                                             100\n",
      "San Diego CA                                           41\n",
      "Fresno-Visalia CA                                      40\n",
      "Santa Barbara-Santa Maria-San Luis Obispo CA           39\n",
      "San Francisco-Oakland-San Jose CA                      36\n",
      "Los Angeles CA                                         35\n",
      "Sacramento-Stockton-Modesto CA                         34\n",
      "Palm Springs CA                                        32\n",
      "Chico-Redding CA                                       30\n",
      "Reno NV                                                29\n",
      "Monterey-Salinas CA                                    26\n",
      "Yuma AZ-El Centro CA                                   25\n",
      "Bakersfield CA                                         19\n",
      "Medford-Klamath Falls OR                               10\n"
     ]
    }
   ],
   "source": [
    "import pytrends as pt\n",
    "from pytrends.request import TrendReq\n",
    "\n",
    "# Initialize the Google Trends object\n",
    "pytrends = TrendReq()\n",
    "\n",
    "# Define the primary keyword, timeframe, and geo\n",
    "keyword = \"ATM near me\"\n",
    "timeframe = \"today 1-m\"\n",
    "geo = 'US-CA'  # US is the code for the United States\n",
    "\n",
    "# Build the payload with the keyword, timeframe, and geo\n",
    "pytrends.build_payload(kw_list=[keyword], timeframe=timeframe, geo=geo)\n",
    "\n",
    "# Get interest by region data for the keyword at the DMA level\n",
    "interest_by_dma = pytrends.interest_by_region(resolution='DMA')\n",
    "\n",
    "# Sort the results by popularity\n",
    "sorted_dmas = interest_by_dma.sort_values(by=keyword, ascending=False)\n",
    "\n",
    "print(sorted_dmas)\n"
   ]
  }
 ],
 "metadata": {
  "kernelspec": {
   "display_name": "Python 3",
   "language": "python",
   "name": "python3"
  },
  "language_info": {
   "codemirror_mode": {
    "name": "ipython",
    "version": 3
   },
   "file_extension": ".py",
   "mimetype": "text/x-python",
   "name": "python",
   "nbconvert_exporter": "python",
   "pygments_lexer": "ipython3",
   "version": "3.11.4"
  },
  "orig_nbformat": 4
 },
 "nbformat": 4,
 "nbformat_minor": 2
}

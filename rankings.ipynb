{
 "cells": [
  {
   "cell_type": "markdown",
   "metadata": {},
   "source": [
    "Google Trends' related_queries method returns search terms that users have entered into Google. These terms can be phrases or combinations of words that may seem topic-like but are still considered search queries by Google Trends."
   ]
  },
  {
   "cell_type": "code",
   "execution_count": 6,
   "metadata": {},
   "outputs": [
    {
     "name": "stdout",
     "output_type": "stream",
     "text": [
      "                             query  value\n",
      "0                          dh gate   1250\n",
      "1                     sas sneakers    300\n",
      "2           shop backpacks on sale    250\n",
      "3            shop sneakers on sale    180\n",
      "4              volleyball sneakers    130\n",
      "5          girls high top sneakers    120\n",
      "6                    kobe sneakers     90\n",
      "7                        jd sports     90\n",
      "8         charles barkley sneakers     80\n",
      "9            toddler girl sneakers     70\n",
      "10              sneakers for girls     70\n",
      "11                 olukai sneakers     60\n",
      "12                  girls sneakers     50\n",
      "13                 famous footwear     50\n",
      "14                toddler sneakers     50\n",
      "15                   boys sneakers     50\n",
      "16           best slip on sneakers     50\n",
      "17                        jordan 3     50\n",
      "18                   kids sneakers     50\n",
      "19                      nike dunks     50\n",
      "20                     nike outlet     40\n",
      "21  comfortable sneakers for women     40\n",
      "22                      footlocker     40\n",
      "23                        journeys     40\n"
     ]
    }
   ],
   "source": [
    "# Find the top and rising related terms of a specific keyword (\"sneakers\")\n",
    "\n",
    "import pytrends as pt\n",
    "from pytrends.request import TrendReq\n",
    "\n",
    "# Initialize the Google Trends object\n",
    "pytrends = TrendReq()\n",
    "\n",
    "# Define the primary keyword and timeframe\n",
    "keyword = \"sneakers\"\n",
    "timeframe = \"today 1-m\"\n",
    "\n",
    "# Build the payload with the keyword and timeframe\n",
    "pytrends.build_payload(kw_list=[keyword], timeframe=timeframe,geo=\"US\")\n",
    "\n",
    "\n",
    "# Get related queries for the keyword\n",
    "related_queries = pytrends.related_queries()\n",
    "\n",
    "# Extract top related terms for the keyword\n",
    "top_related_terms = related_queries[keyword]['rising']\n",
    "\n",
    "# If there are more than 50 results, limit it to the top 50\n",
    "if len(top_related_terms) > 20:\n",
    "    top_related_terms = top_related_terms.head(50)\n",
    "\n",
    "print(top_related_terms)\n"
   ]
  },
  {
   "cell_type": "code",
   "execution_count": 2,
   "metadata": {},
   "outputs": [
    {
     "name": "stdout",
     "output_type": "stream",
     "text": [
      "                   query  value\n",
      "0           food near me    100\n",
      "1    restaurants near me     60\n",
      "2           jobs near me     34\n",
      "3         stores near me     29\n",
      "4          pizza near me     26\n",
      "5        walmart near me     23\n",
      "6     restaurant near me     21\n",
      "7           bank near me     18\n",
      "8            gas near me     17\n",
      "9      breakfast near me     16\n",
      "10       chinese near me     15\n",
      "11          park near me     14\n",
      "12        movies near me     13\n",
      "13       mexican near me     12\n",
      "14           cvs near me     10\n",
      "15        target near me     10\n",
      "16         beach near me     10\n",
      "17   gas station near me     10\n",
      "18     ice cream near me     10\n",
      "19  things to do near me      9\n",
      "20        hotels near me      9\n",
      "21     walgreens near me      9\n",
      "22        market near me      9\n",
      "23        coffee near me      9\n",
      "24  chinese food near me      9\n"
     ]
    }
   ],
   "source": [
    "# Find the top and rising related terms of a specific keyword (\"sneakers\")\n",
    "\n",
    "import pytrends as pt\n",
    "from pytrends.request import TrendReq\n",
    "\n",
    "# Initialize the Google Trends object\n",
    "pytrends = TrendReq()\n",
    "\n",
    "# Define the primary keyword and timeframe\n",
    "keyword = \"near me\"\n",
    "timeframe = \"today 1-m\"\n",
    "\n",
    "# Build the payload with the keyword and timeframe\n",
    "pytrends.build_payload(kw_list=[keyword], timeframe=timeframe,geo=\"US\")\n",
    "\n",
    "\n",
    "# Get related queries for the keyword\n",
    "related_queries = pytrends.related_queries()\n",
    "\n",
    "# Extract top related terms for the keyword\n",
    "top_related_terms = related_queries[keyword]['top']\n",
    "\n",
    "# If there are more than 50 results, limit it to the top 50\n",
    "if len(top_related_terms) > 20:\n",
    "    top_related_terms = top_related_terms.head(50)\n",
    "\n",
    "print(top_related_terms)"
   ]
  },
  {
   "cell_type": "code",
   "execution_count": 5,
   "metadata": {},
   "outputs": [
    {
     "name": "stdout",
     "output_type": "stream",
     "text": [
      "                             query  value\n",
      "0                          dh gate   1250\n",
      "1                     sas sneakers    300\n",
      "2           shop backpacks on sale    250\n",
      "3            shop sneakers on sale    180\n",
      "4              volleyball sneakers    130\n",
      "5          girls high top sneakers    120\n",
      "6                    kobe sneakers     90\n",
      "7                        jd sports     90\n",
      "8         charles barkley sneakers     80\n",
      "9            toddler girl sneakers     70\n",
      "10              sneakers for girls     70\n",
      "11                 olukai sneakers     60\n",
      "12                  girls sneakers     50\n",
      "13                 famous footwear     50\n",
      "14                toddler sneakers     50\n",
      "15                   boys sneakers     50\n",
      "16           best slip on sneakers     50\n",
      "17                        jordan 3     50\n",
      "18                   kids sneakers     50\n",
      "19                      nike dunks     50\n",
      "20                     nike outlet     40\n",
      "21  comfortable sneakers for women     40\n",
      "22                      footlocker     40\n",
      "23                        journeys     40\n"
     ]
    }
   ],
   "source": [
    "# Find the top and rising related terms of a specific keyword (\"sneakers\")\n",
    "\n",
    "import pytrends as pt\n",
    "from pytrends.request import TrendReq\n",
    "\n",
    "# Initialize the Google Trends object\n",
    "pytrends = TrendReq()\n",
    "\n",
    "# Define the primary keyword and timeframe\n",
    "keyword = \"sneakers\"\n",
    "timeframe = \"today 1-m\"\n",
    "\n",
    "# Build the payload with the keyword and timeframe\n",
    "pytrends.build_payload(kw_list=[keyword], timeframe=timeframe, geo=\"US\")\n",
    "\n",
    "# Get related queries for the keyword\n",
    "related_queries = pytrends.related_queries()\n",
    "\n",
    "# Extract rising related terms for the keyword\n",
    "rising_related_terms = related_queries[keyword]['rising']\n",
    "\n",
    "# If there are more than 50 results, limit it to the top 50\n",
    "if len(rising_related_terms) > 20:\n",
    "    rising_related_terms = rising_related_terms.head(50)\n",
    "\n",
    "print(rising_related_terms)\n"
   ]
  }
 ],
 "metadata": {
  "kernelspec": {
   "display_name": "Python 3",
   "language": "python",
   "name": "python3"
  },
  "language_info": {
   "codemirror_mode": {
    "name": "ipython",
    "version": 3
   },
   "file_extension": ".py",
   "mimetype": "text/x-python",
   "name": "python",
   "nbconvert_exporter": "python",
   "pygments_lexer": "ipython3",
   "version": "3.11.4"
  },
  "orig_nbformat": 4
 },
 "nbformat": 4,
 "nbformat_minor": 2
}

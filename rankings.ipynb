{
 "cells": [
  {
   "cell_type": "code",
   "execution_count": 3,
   "metadata": {},
   "outputs": [
    {
     "name": "stdout",
     "output_type": "stream",
     "text": [
      "                             query  value\n",
      "0           shop backpacks on sale  15150\n",
      "1            shop sneakers on sale    500\n",
      "2                          dh gate    300\n",
      "3          girls high top sneakers    110\n",
      "4              volleyball sneakers     70\n",
      "5               converse high tops     60\n",
      "6                    boys sneakers     50\n",
      "7                 lanvins sneakers     50\n",
      "8                   girls sneakers     50\n",
      "9   comfortable sneakers for women     50\n",
      "10                 olukai sneakers     50\n",
      "11                      nike dunks     50\n",
      "12                      footlocker     40\n",
      "13                    lanvin shoes     40\n"
     ]
    }
   ],
   "source": [
    "# Find the top and rising related terms of a specific keyword (\"sneakers\")\n",
    "\n",
    "import pytrends as pt\n",
    "from pytrends.request import TrendReq\n",
    "\n",
    "# Initialize the Google Trends object\n",
    "pytrends = TrendReq()\n",
    "\n",
    "# Define the primary keyword and timeframe\n",
    "keyword = \"sneakers\"\n",
    "timeframe = \"today 1-m\"\n",
    "\n",
    "# Build the payload with the keyword and timeframe\n",
    "pytrends.build_payload(kw_list=[keyword], timeframe=timeframe,geo=\"US\")\n",
    "\n",
    "\n",
    "# Get related queries for the keyword\n",
    "related_queries = pytrends.related_queries()\n",
    "\n",
    "# Extract top related terms for the keyword\n",
    "top_related_terms = related_queries[keyword]['rising']\n",
    "\n",
    "# If there are more than 50 results, limit it to the top 50\n",
    "if len(top_related_terms) > 20:\n",
    "    top_related_terms = top_related_terms.head(50)\n",
    "\n",
    "print(top_related_terms)\n"
   ]
  },
  {
   "cell_type": "code",
   "execution_count": 14,
   "metadata": {},
   "outputs": [
    {
     "name": "stdout",
     "output_type": "stream",
     "text": [
      "                       query  value\n",
      "0                restaurants    100\n",
      "1        restaurants near me    100\n",
      "2         restaurant near me     65\n",
      "3               shop near me     54\n",
      "4               food near me     47\n",
      "5        supermarket near me     38\n",
      "6                supermarket     38\n",
      "7                bar near me     33\n",
      "8              shops near me     30\n",
      "9             places near me     28\n",
      "10             beach near me     26\n",
      "11          pharmacy near me     20\n",
      "12         mercadona near me     19\n",
      "13              bars near me     18\n",
      "14             hotel near me     17\n",
      "15             pizza near me     17\n",
      "16              taxi near me     17\n",
      "17         breakfast near me     17\n",
      "18             tapas near me     17\n",
      "19              park near me     17\n",
      "20  best restaurants near me     17\n",
      "21              club near me     16\n",
      "22          shopping near me     14\n",
      "23      things to do near me     14\n",
      "24           chinese near me     14\n"
     ]
    }
   ],
   "source": [
    "# Find the top and rising related terms of a specific keyword (\"sneakers\")\n",
    "\n",
    "import pytrends as pt\n",
    "from pytrends.request import TrendReq\n",
    "\n",
    "# Initialize the Google Trends object\n",
    "pytrends = TrendReq()\n",
    "\n",
    "# Define the primary keyword and timeframe\n",
    "keyword = \"near me\"\n",
    "timeframe = \"today 1-m\"\n",
    "\n",
    "# Build the payload with the keyword and timeframe\n",
    "pytrends.build_payload(kw_list=[keyword], timeframe=timeframe,geo=\"ES\")\n",
    "\n",
    "\n",
    "# Get related queries for the keyword\n",
    "related_queries = pytrends.related_queries()\n",
    "\n",
    "# Extract top related terms for the keyword\n",
    "top_related_terms = related_queries[keyword]['top']\n",
    "\n",
    "# If there are more than 50 results, limit it to the top 50\n",
    "if len(top_related_terms) > 20:\n",
    "    top_related_terms = top_related_terms.head(50)\n",
    "\n",
    "print(top_related_terms)"
   ]
  }
 ],
 "metadata": {
  "kernelspec": {
   "display_name": "Python 3",
   "language": "python",
   "name": "python3"
  },
  "language_info": {
   "codemirror_mode": {
    "name": "ipython",
    "version": 3
   },
   "file_extension": ".py",
   "mimetype": "text/x-python",
   "name": "python",
   "nbconvert_exporter": "python",
   "pygments_lexer": "ipython3",
   "version": "3.11.4"
  },
  "orig_nbformat": 4
 },
 "nbformat": 4,
 "nbformat_minor": 2
}

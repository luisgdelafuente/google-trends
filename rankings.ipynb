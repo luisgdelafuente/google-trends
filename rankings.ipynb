{
 "cells": [
  {
   "cell_type": "markdown",
   "metadata": {},
   "source": [
    "Google Trends' related_queries method returns search terms that users have entered into Google. These terms can be phrases or combinations of words that may seem topic-like but are still considered search queries by Google Trends."
   ]
  },
  {
   "cell_type": "code",
   "execution_count": 1,
   "metadata": {},
   "outputs": [
    {
     "name": "stdout",
     "output_type": "stream",
     "text": [
      "                    query  value\n",
      "0          sneakers mujer    100\n",
      "1                    nike     81\n",
      "2           sneakers nike     80\n",
      "3         sneakers hombre     56\n",
      "4         adidas sneakers     55\n",
      "5        platano sneakers     34\n",
      "6    new balance sneakers     30\n",
      "7             new balance     29\n",
      "8                  jordan     25\n",
      "9      sneakers barcelona     22\n",
      "10                sneaker     22\n",
      "11               skechers     17\n",
      "12                   veja     16\n",
      "13               scalpers     14\n",
      "14               converse     13\n",
      "15            bj sneakers     12\n",
      "16  golden goose sneakers     11\n",
      "17                 stockx     11\n",
      "18        dooers sneakers     10\n",
      "19           sneakers day      9\n",
      "20         autry sneakers      9\n",
      "21                     jd      9\n",
      "22        stream sneakers      8\n",
      "23         apple sneakers      8\n",
      "24         wanna sneakers      8\n"
     ]
    }
   ],
   "source": [
    "# Find the top and rising related terms of a specific keyword (\"sneakers\")\n",
    "\n",
    "import pytrends as pt\n",
    "from pytrends.request import TrendReq\n",
    "\n",
    "# Initialize the Google Trends object\n",
    "pytrends = TrendReq()\n",
    "\n",
    "# Define the primary keyword and timeframe\n",
    "keyword = \"sneakers\"\n",
    "timeframe = \"today 1-m\"\n",
    "\n",
    "# Build the payload with the keyword and timeframe\n",
    "pytrends.build_payload(kw_list=[keyword], timeframe=timeframe, geo=\"ES\")\n",
    "\n",
    "\n",
    "# Get related queries for the keyword\n",
    "related_queries = pytrends.related_queries()\n",
    "\n",
    "# Extract top related terms for the keyword\n",
    "top_related_terms = related_queries[keyword]['top']\n",
    "\n",
    "# If there are more than 50 results, limit it to the top 50\n",
    "if len(top_related_terms) > 20:\n",
    "    top_related_terms = top_related_terms.head(50)\n",
    "\n",
    "print(top_related_terms)\n"
   ]
  },
  {
   "cell_type": "code",
   "execution_count": 6,
   "metadata": {},
   "outputs": [
    {
     "name": "stdout",
     "output_type": "stream",
     "text": [
      "                   query  value\n",
      "0           food near me    100\n",
      "1    restaurants near me     60\n",
      "2        walmart near me     36\n",
      "3     restaurant near me     34\n",
      "4          pizza near me     32\n",
      "5           jobs near me     31\n",
      "6          beach near me     31\n",
      "7         publix near me     28\n",
      "8         stores near me     27\n",
      "9            gas near me     18\n",
      "10       chinese near me     18\n",
      "11     breakfast near me     17\n",
      "12           cvs near me     15\n",
      "13          park near me     14\n",
      "14     walgreens near me     14\n",
      "15        movies near me     12\n",
      "16        target near me     11\n",
      "17           ups near me     10\n",
      "18    home depot near me      9\n",
      "19  things to do near me      9\n",
      "20          mall near me      9\n",
      "21        hotels near me      9\n",
      "22           bar near me      9\n",
      "23     ice cream near me      8\n",
      "24   gas station near me      8\n"
     ]
    }
   ],
   "source": [
    "import pytrends as pt\n",
    "from pytrends.request import TrendReq\n",
    "\n",
    "# Initialize the Google Trends object\n",
    "pytrends = TrendReq()\n",
    "\n",
    "# Define the primary keyword and timeframe\n",
    "keyword = \"near me\"\n",
    "timeframe = \"today 1-m\"\n",
    "\n",
    "# Build the payload with the keyword and timeframe\n",
    "pytrends.build_payload(kw_list=[keyword], timeframe=timeframe, geo=\"US-FL\")\n",
    "\n",
    "# Get related queries for the keyword\n",
    "related_queries = pytrends.related_queries()\n",
    "\n",
    "# Extract top related terms for the keyword\n",
    "top_related_terms = related_queries[keyword]['top']\n",
    "\n",
    "# If there are more than 50 results, limit it to the top 50\n",
    "if len(top_related_terms) > 20:\n",
    "    top_related_terms = top_related_terms.head(50)\n",
    "\n",
    "print(top_related_terms)"
   ]
  },
  {
   "cell_type": "code",
   "execution_count": 12,
   "metadata": {},
   "outputs": [
    {
     "name": "stdout",
     "output_type": "stream",
     "text": [
      "                           query  value\n",
      "0                  zapatillas mu   2500\n",
      "1        zapatillas mu the brand    400\n",
      "2         zapatillas biomecanics    180\n",
      "3      decathlon zapatillas niño    170\n",
      "4        zapatillas deporte niña    170\n",
      "5            zapatillas voleibol    160\n",
      "6         zapatillas adidas niña    150\n",
      "7                   chandal nike    130\n",
      "8           zapatillas nike niña    110\n",
      "9      zapatillas voleibol mujer    100\n",
      "10        zapatillas munich niño     90\n",
      "11    zapatillas decathlon niños     90\n",
      "12       zapatillas blancas niño     90\n",
      "13               zapatillas bebe     90\n",
      "14    zapatillas deportivas niño     90\n",
      "15  zapatillas de estar por casa     80\n",
      "16              zapatillas samba     80\n",
      "17                     deichmann     80\n",
      "18                  adidas samba     70\n",
      "19               zapatillas niña     70\n",
      "20          zapatillas nike niño     70\n",
      "21          zapatillas balonmano     70\n",
      "22   zapatillas baloncesto mujer     70\n",
      "23               new balance 530     70\n",
      "24        zapatillas adidas niño     60\n"
     ]
    }
   ],
   "source": [
    "# Find the top and rising related terms of a specific keyword (\"sneakers\")\n",
    "\n",
    "import pytrends as pt\n",
    "from pytrends.request import TrendReq\n",
    "\n",
    "# Initialize the Google Trends object\n",
    "pytrends = TrendReq()\n",
    "\n",
    "# Define the primary keyword and timeframe\n",
    "keyword = \"zapatillas\"\n",
    "timeframe = \"today 1-m\"\n",
    "\n",
    "# Build the payload with the keyword and timeframe\n",
    "pytrends.build_payload(kw_list=[keyword], timeframe=timeframe, geo=\"ES\")\n",
    "\n",
    "# Get related queries for the keyword\n",
    "related_queries = pytrends.related_queries()\n",
    "\n",
    "# Extract rising related terms for the keyword\n",
    "rising_related_terms = related_queries[keyword]['rising']\n",
    "\n",
    "# If there are more than 50 results, limit it to the top 50\n",
    "if len(rising_related_terms) > 20:\n",
    "    rising_related_terms = rising_related_terms.head(50)\n",
    "\n",
    "print(rising_related_terms)\n"
   ]
  }
 ],
 "metadata": {
  "kernelspec": {
   "display_name": "Python 3",
   "language": "python",
   "name": "python3"
  },
  "language_info": {
   "codemirror_mode": {
    "name": "ipython",
    "version": 3
   },
   "file_extension": ".py",
   "mimetype": "text/x-python",
   "name": "python",
   "nbconvert_exporter": "python",
   "pygments_lexer": "ipython3",
   "version": "3.11.4"
  },
  "orig_nbformat": 4
 },
 "nbformat": 4,
 "nbformat_minor": 2
}

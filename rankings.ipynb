{
 "cells": [
  {
   "cell_type": "markdown",
   "metadata": {},
   "source": [
    "Google Trends' related_queries method returns search terms that users have entered into Google. These terms can be phrases or combinations of words that may seem topic-like but are still considered search queries by Google Trends."
   ]
  },
  {
   "cell_type": "code",
   "execution_count": null,
   "metadata": {},
   "outputs": [],
   "source": [
    "# Find the top and rising related terms of a specific keyword (\"sneakers\")\n",
    "\n",
    "import pytrends as pt\n",
    "from pytrends.request import TrendReq\n",
    "\n",
    "# Initialize the Google Trends object\n",
    "pytrends = TrendReq()\n",
    "\n",
    "# Define the primary keyword and timeframe\n",
    "keyword = \"sneakers\"\n",
    "timeframe = \"now 7-d\"\n",
    "\n",
    "# Build the payload with the keyword and timeframe\n",
    "pytrends.build_payload(kw_list=[keyword], timeframe=timeframe)\n",
    "\n",
    "# Get related queries for the keyword\n",
    "related_queries = pytrends.related_queries()\n",
    "\n",
    "# Extract top related terms for the keyword\n",
    "top_related_terms = related_queries[keyword]['top']\n",
    "\n",
    "# If there are more than 50 results, limit it to the top 50\n",
    "if len(top_related_terms) > 20:\n",
    "    top_related_terms = top_related_terms.head(50)\n",
    "\n",
    "print(top_related_terms)\n"
   ]
  },
  {
   "cell_type": "code",
   "execution_count": null,
   "metadata": {},
   "outputs": [],
   "source": [
    "import pytrends as pt\n",
    "from pytrends.request import TrendReq\n",
    "\n",
    "# Initialize the Google Trends object\n",
    "pytrends = TrendReq()\n",
    "\n",
    "# Define the primary keyword and timeframe\n",
    "keyword = \"near me\"\n",
    "timeframe = \"today 1-m\"\n",
    "\n",
    "# Build the payload with the keyword and timeframe\n",
    "pytrends.build_payload(kw_list=[keyword], timeframe=timeframe, geo=\"US-FL\")\n",
    "\n",
    "# Get related queries for the keyword\n",
    "related_queries = pytrends.related_queries()\n",
    "\n",
    "# Extract top related terms for the keyword\n",
    "top_related_terms = related_queries[keyword]['top']\n",
    "\n",
    "# If there are more than 50 results, limit it to the top 50\n",
    "if len(top_related_terms) > 20:\n",
    "    top_related_terms = top_related_terms.head(50)\n",
    "\n",
    "print(top_related_terms)"
   ]
  },
  {
   "cell_type": "code",
   "execution_count": null,
   "metadata": {},
   "outputs": [],
   "source": [
    "# Find the top and rising related terms of a specific keyword (\"sneakers\")\n",
    "\n",
    "import pytrends as pt\n",
    "from pytrends.request import TrendReq\n",
    "\n",
    "# Initialize the Google Trends object\n",
    "pytrends = TrendReq()\n",
    "\n",
    "\n",
    "# Define the primary keyword and timeframe\n",
    "keyword = \"inmobiliaria\"\n",
    "timeframe = \"now 7-d\"\n",
    "\n",
    "# Build the payload with the keyword and timeframe\n",
    "pytrends.build_payload(kw_list=[keyword], timeframe=timeframe, geo=\"ES-AR\")\n",
    "\n",
    "# Get related queries for the keyword\n",
    "related_queries = pytrends.related_queries()\n",
    "\n",
    "# Extract rising related terms for the keyword\n",
    "rising_related_terms = related_queries[keyword]['top']\n",
    "\n",
    "# If there are more than 50 results, limit it to the top 50\n",
    "if len(rising_related_terms) > 20:\n",
    "    rising_related_terms = rising_related_terms.head(50)\n",
    "\n",
    "print(rising_related_terms)\n"
   ]
  },
  {
   "cell_type": "code",
   "execution_count": null,
   "metadata": {},
   "outputs": [],
   "source": [
    "import pytrends as pt\n",
    "from pytrends.request import TrendReq\n",
    "import time  # Import the time module\n",
    "\n",
    "# Initialize the Google Trends object\n",
    "pytrends = TrendReq()\n",
    "\n",
    "# Define the primary keyword and timeframe\n",
    "keyword = \"inmobiliaria\"\n",
    "timeframe = \"now 7-d\"\n",
    "\n",
    "# Build the payload with the keyword and timeframe\n",
    "pytrends.build_payload(kw_list=[keyword], timeframe=timeframe, geo=\"ES-AR\")\n",
    "\n",
    "# Get related queries for the keyword\n",
    "related_queries = pytrends.related_queries()\n",
    "\n",
    "# Extract rising related terms for the keyword\n",
    "rising_related_terms = related_queries[keyword]['top']\n",
    "\n",
    "# If there are more than 20 results, limit it to the top 20\n",
    "if len(rising_related_terms) > 20:\n",
    "    rising_related_terms = rising_related_terms.head(20)\n",
    "\n",
    "print(rising_related_terms)\n",
    "\n",
    "# Add a sleep interval (e.g., 2 seconds) to avoid making requests too quickly\n",
    "time.sleep(3)\n"
   ]
  },
  {
   "cell_type": "code",
   "execution_count": 21,
   "metadata": {},
   "outputs": [
    {
     "name": "stdout",
     "output_type": "stream",
     "text": [
      "Related Keywords:\n",
      "1. https://www.snipes.es/c/shoes/sneaker\n",
      "2. https://www.footlocker.es/\n",
      "3. https://www.sniker.es/\n",
      "4. https://www.zalando.es/hombre-streetwear-sneakers-tendencias/\n",
      "5. https://www.intersport.es/hombre/zapatillas/sneakers/\n",
      "6. https://www.consuelastore.com/\n",
      "7. https://stockx.com/es-es/sneakers\n",
      "8. https://mobile.yoox.com/es/mujer/shoponline/sneakers_c\n",
      "9. https://catchalot.es/es/1254-zapatillas-sneakers-mujer\n",
      "10. https://www.idealo.es/cat/18817/sneakers.html\n"
     ]
    }
   ],
   "source": [
    "from googlesearch import search\n",
    "\n",
    "# Define the search term for which you want related keywords\n",
    "search_term = \"sneakers\"\n",
    "\n",
    "# Set the number of related queries to retrieve (you can adjust this number)\n",
    "num_related_queries = 10\n",
    "\n",
    "# Perform the search and get related queries\n",
    "related_queries = list(search(search_term, num_related_queries * 2, num_related_queries * 2))\n",
    "\n",
    "# Take the first 'num_related_queries' related queries\n",
    "related_queries = related_queries[:num_related_queries]\n",
    "\n",
    "# Print the related queries\n",
    "print(\"Related Keywords:\")\n",
    "for i, keyword in enumerate(related_queries):\n",
    "    print(f\"{i + 1}. {keyword}\")\n",
    "\n"
   ]
  }
 ],
 "metadata": {
  "kernelspec": {
   "display_name": "Python 3",
   "language": "python",
   "name": "python3"
  },
  "language_info": {
   "codemirror_mode": {
    "name": "ipython",
    "version": 3
   },
   "file_extension": ".py",
   "mimetype": "text/x-python",
   "name": "python",
   "nbconvert_exporter": "python",
   "pygments_lexer": "ipython3",
   "version": "3.11.4"
  },
  "orig_nbformat": 4
 },
 "nbformat": 4,
 "nbformat_minor": 2
}

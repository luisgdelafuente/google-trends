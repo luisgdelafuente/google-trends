{
 "cells": [
  {
   "cell_type": "code",
   "execution_count": 1,
   "metadata": {},
   "outputs": [
    {
     "name": "stdout",
     "output_type": "stream",
     "text": [
      "                             query  value\n",
      "0           shop backpacks on sale  16400\n",
      "1            shop sneakers on sale    550\n",
      "2                          dh gate    300\n",
      "3          girls high top sneakers    130\n",
      "4               converse high tops     70\n",
      "5                 lanvins sneakers     60\n",
      "6              volleyball sneakers     60\n",
      "7                  olukai sneakers     60\n",
      "8                    boys sneakers     60\n",
      "9   comfortable sneakers for women     50\n",
      "10                  girls sneakers     50\n",
      "11                      footlocker     50\n",
      "12                    ugg sneakers     50\n",
      "13                 famous footwear     50\n",
      "14                      nike dunks     50\n",
      "15                    lanvin shoes     40\n",
      "16           best slip on sneakers     40\n",
      "17          vans platform sneakers     40\n",
      "18                shushop sneakers     40\n",
      "19                toddler sneakers     40\n",
      "20                           asics     40\n",
      "21                  asics sneakers     40\n"
     ]
    }
   ],
   "source": [
    "# Find the top and rising related terms of a specific keyword (\"sneakers\")\n",
    "\n",
    "import pytrends as pt\n",
    "from pytrends.request import TrendReq\n",
    "\n",
    "# Initialize the Google Trends object\n",
    "pytrends = TrendReq()\n",
    "\n",
    "# Define the primary keyword and timeframe\n",
    "keyword = \"sneakers\"\n",
    "timeframe = \"today 1-m\"\n",
    "\n",
    "# Build the payload with the keyword and timeframe\n",
    "pytrends.build_payload(kw_list=[keyword], timeframe=timeframe,geo=\"US\")\n",
    "\n",
    "\n",
    "# Get related queries for the keyword\n",
    "related_queries = pytrends.related_queries()\n",
    "\n",
    "# Extract top related terms for the keyword\n",
    "top_related_terms = related_queries[keyword]['rising']\n",
    "\n",
    "# If there are more than 50 results, limit it to the top 50\n",
    "if len(top_related_terms) > 20:\n",
    "    top_related_terms = top_related_terms.head(50)\n",
    "\n",
    "print(top_related_terms)\n"
   ]
  },
  {
   "cell_type": "code",
   "execution_count": 41,
   "metadata": {},
   "outputs": [
    {
     "data": {
      "text/plain": [
       "[{'mid': '/m/0gfps3', 'title': 'Economy', 'type': 'Topic'},\n",
       " {'mid': '/g/11fx8y_lzq',\n",
       "  'title': 'Mastering Bitcoin: Programming the Open Blockchain',\n",
       "  'type': 'Book by Andreas Antonopoulos'},\n",
       " {'mid': '/g/11sqh5khft', 'title': 'Raoul Pal', 'type': 'Writer'},\n",
       " {'mid': '/g/11fzz3kfcg', 'title': 'Henrique Schneider', 'type': 'Economist'},\n",
       " {'mid': '/g/11g24kxb3b',\n",
       "  'title': 'How to Do Nothing: Resisting the Attention Economy',\n",
       "  'type': 'Book by Jenny Odell'}]"
      ]
     },
     "execution_count": 41,
     "metadata": {},
     "output_type": "execute_result"
    }
   ],
   "source": [
    "pytrends.suggestions('economy')"
   ]
  },
  {
   "cell_type": "markdown",
   "metadata": {},
   "source": [
    "(Readme)\n",
    "\n",
    "RESOURCES\n",
    "\n",
    "Google cagegories & codes   https://github.com/pat310/google-trends-api/wiki/Google-Trends-Categories \n",
    "Pytrends library            https://pypi.org/project/pytrends/"
   ]
  },
  {
   "cell_type": "code",
   "execution_count": 16,
   "metadata": {},
   "outputs": [
    {
     "name": "stdout",
     "output_type": "stream",
     "text": [
      "cinema:2019-01-01 2019-01-31\n"
     ]
    },
    {
     "ename": "KeyboardInterrupt",
     "evalue": "",
     "output_type": "error",
     "traceback": [
      "\u001b[1;31m---------------------------------------------------------------------------\u001b[0m",
      "\u001b[1;31mKeyboardInterrupt\u001b[0m                         Traceback (most recent call last)",
      "Cell \u001b[1;32mIn[16], line 4\u001b[0m\n\u001b[0;32m      1\u001b[0m \u001b[39mfrom\u001b[39;00m \u001b[39mpytrends\u001b[39;00m\u001b[39m.\u001b[39;00m\u001b[39mrequest\u001b[39;00m \u001b[39mimport\u001b[39;00m TrendReq\n\u001b[0;32m      2\u001b[0m \u001b[39mfrom\u001b[39;00m \u001b[39mpytrends\u001b[39;00m \u001b[39mimport\u001b[39;00m dailydata\n\u001b[1;32m----> 4\u001b[0m df \u001b[39m=\u001b[39m dailydata\u001b[39m.\u001b[39;49mget_daily_data(\u001b[39m'\u001b[39;49m\u001b[39mcinema\u001b[39;49m\u001b[39m'\u001b[39;49m, \u001b[39m2019\u001b[39;49m, \u001b[39m1\u001b[39;49m, \u001b[39m2019\u001b[39;49m, \u001b[39m10\u001b[39;49m, geo \u001b[39m=\u001b[39;49m \u001b[39m'\u001b[39;49m\u001b[39mUS\u001b[39;49m\u001b[39m'\u001b[39;49m)\n\u001b[0;32m      6\u001b[0m \u001b[39mprint\u001b[39m(df)\n",
      "File \u001b[1;32mc:\\Python\\Lib\\site-packages\\pytrends\\dailydata.py:117\u001b[0m, in \u001b[0;36mget_daily_data\u001b[1;34m(word, start_year, start_mon, stop_year, stop_mon, geo, verbose, wait_time)\u001b[0m\n\u001b[0;32m    115\u001b[0m     results[current] \u001b[39m=\u001b[39m _fetch_data(pytrends, build_payload, timeframe)\n\u001b[0;32m    116\u001b[0m     current \u001b[39m=\u001b[39m last_date_of_month \u001b[39m+\u001b[39m timedelta(days\u001b[39m=\u001b[39m\u001b[39m1\u001b[39m)\n\u001b[1;32m--> 117\u001b[0m     sleep(wait_time)  \u001b[39m# don't go too fast or Google will send 429s\u001b[39;00m\n\u001b[0;32m    119\u001b[0m daily \u001b[39m=\u001b[39m pd\u001b[39m.\u001b[39mconcat(results\u001b[39m.\u001b[39mvalues())\u001b[39m.\u001b[39mdrop(columns\u001b[39m=\u001b[39m[\u001b[39m'\u001b[39m\u001b[39misPartial\u001b[39m\u001b[39m'\u001b[39m])\n\u001b[0;32m    120\u001b[0m complete \u001b[39m=\u001b[39m daily\u001b[39m.\u001b[39mjoin(monthly, lsuffix\u001b[39m=\u001b[39m\u001b[39m'\u001b[39m\u001b[39m_unscaled\u001b[39m\u001b[39m'\u001b[39m, rsuffix\u001b[39m=\u001b[39m\u001b[39m'\u001b[39m\u001b[39m_monthly\u001b[39m\u001b[39m'\u001b[39m)\n",
      "\u001b[1;31mKeyboardInterrupt\u001b[0m: "
     ]
    }
   ],
   "source": [
    "from pytrends.request import TrendReq\n",
    "from pytrends import dailydata\n",
    "\n",
    "df = dailydata.get_daily_data('cinema', 2019, 1, 2019, 10, geo = 'US')\n",
    "\n",
    "print(df)"
   ]
  }
 ],
 "metadata": {
  "kernelspec": {
   "display_name": "Python 3",
   "language": "python",
   "name": "python3"
  },
  "language_info": {
   "codemirror_mode": {
    "name": "ipython",
    "version": 3
   },
   "file_extension": ".py",
   "mimetype": "text/x-python",
   "name": "python",
   "nbconvert_exporter": "python",
   "pygments_lexer": "ipython3",
   "version": "3.11.4"
  },
  "orig_nbformat": 4
 },
 "nbformat": 4,
 "nbformat_minor": 2
}

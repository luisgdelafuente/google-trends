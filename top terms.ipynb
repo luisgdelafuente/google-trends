{
 "cells": [
  {
   "cell_type": "code",
   "execution_count": 1,
   "metadata": {},
   "outputs": [
    {
     "name": "stdout",
     "output_type": "stream",
     "text": [
      "                             query  value\n",
      "0           shop backpacks on sale  16400\n",
      "1            shop sneakers on sale    550\n",
      "2                          dh gate    300\n",
      "3          girls high top sneakers    130\n",
      "4               converse high tops     70\n",
      "5                 lanvins sneakers     60\n",
      "6              volleyball sneakers     60\n",
      "7                  olukai sneakers     60\n",
      "8                    boys sneakers     60\n",
      "9   comfortable sneakers for women     50\n",
      "10                  girls sneakers     50\n",
      "11                      footlocker     50\n",
      "12                    ugg sneakers     50\n",
      "13                 famous footwear     50\n",
      "14                      nike dunks     50\n",
      "15                    lanvin shoes     40\n",
      "16           best slip on sneakers     40\n",
      "17          vans platform sneakers     40\n",
      "18                shushop sneakers     40\n",
      "19                toddler sneakers     40\n",
      "20                           asics     40\n",
      "21                  asics sneakers     40\n"
     ]
    }
   ],
   "source": [
    "# Find the top and rising related terms of a specific keyword (\"sneakers\")\n",
    "\n",
    "import pytrends as pt\n",
    "from pytrends.request import TrendReq\n",
    "\n",
    "# Initialize the Google Trends object\n",
    "pytrends = TrendReq()\n",
    "\n",
    "# Define the primary keyword and timeframe\n",
    "keyword = \"sneakers\"\n",
    "timeframe = \"today 1-m\"\n",
    "\n",
    "# Build the payload with the keyword and timeframe\n",
    "pytrends.build_payload(kw_list=[keyword], timeframe=timeframe,geo=\"US\")\n",
    "\n",
    "\n",
    "# Get related queries for the keyword\n",
    "related_queries = pytrends.related_queries()\n",
    "\n",
    "# Extract top related terms for the keyword\n",
    "top_related_terms = related_queries[keyword]['rising']\n",
    "\n",
    "# If there are more than 50 results, limit it to the top 50\n",
    "if len(top_related_terms) > 20:\n",
    "    top_related_terms = top_related_terms.head(50)\n",
    "\n",
    "print(top_related_terms)\n"
   ]
  },
  {
   "cell_type": "code",
   "execution_count": 3,
   "metadata": {},
   "outputs": [
    {
     "name": "stdout",
     "output_type": "stream",
     "text": [
      "                                  query  value\n",
      "0               where is an atm near me    250\n",
      "1                raiffeisen atm near me    200\n",
      "2                       cub atm near me    110\n",
      "3                           atm near.me    100\n",
      "4          karur vysya bank atm near me    100\n",
      "5                      sofi atm near me     70\n",
      "6              no surcharge atm near me     60\n",
      "7                 metrobank atm near me     60\n",
      "8                  landbank atm near me     50\n",
      "9                      landbank near me     50\n",
      "10                      aub atm near me     50\n",
      "11            citizens bank atm near me     40\n",
      "12                 discover atm near me     40\n",
      "13            deutsche bank atm near me     40\n",
      "14  standard chartered bank atm near me     40\n",
      "15                 golden 1 atm near me     40\n",
      "16                   b of a atm near me     40\n",
      "17                      fab atm near me     40\n"
     ]
    }
   ],
   "source": [
    "# Find the top and rising related terms of a specific keyword (\"sneakers\")\n",
    "\n",
    "import pytrends as pt\n",
    "from pytrends.request import TrendReq\n",
    "\n",
    "# Initialize the Google Trends object\n",
    "pytrends = TrendReq()\n",
    "\n",
    "# Define the primary keyword and timeframe\n",
    "keyword = \"atm near me\"\n",
    "timeframe = \"today 1-m\"\n",
    "\n",
    "# Build the payload with the keyword and timeframe\n",
    "pytrends.build_payload(kw_list=[keyword], timeframe=timeframe)\n",
    "\n",
    "\n",
    "# Get related queries for the keyword\n",
    "related_queries = pytrends.related_queries()\n",
    "\n",
    "# Extract top related terms for the keyword\n",
    "top_related_terms = related_queries[keyword]['rising']\n",
    "\n",
    "# If there are more than 50 results, limit it to the top 50\n",
    "if len(top_related_terms) > 20:\n",
    "    top_related_terms = top_related_terms.head(50)\n",
    "\n",
    "print(top_related_terms)\n"
   ]
  },
  {
   "cell_type": "code",
   "execution_count": 11,
   "metadata": {},
   "outputs": [
    {
     "name": "stdout",
     "output_type": "stream",
     "text": [
      "                                              ATM near me\n",
      "geoName                                                  \n",
      "Eureka CA                                             100\n",
      "San Diego CA                                           41\n",
      "Fresno-Visalia CA                                      40\n",
      "Santa Barbara-Santa Maria-San Luis Obispo CA           39\n",
      "San Francisco-Oakland-San Jose CA                      36\n",
      "Los Angeles CA                                         35\n",
      "Sacramento-Stockton-Modesto CA                         34\n",
      "Palm Springs CA                                        32\n",
      "Chico-Redding CA                                       30\n",
      "Reno NV                                                29\n",
      "Monterey-Salinas CA                                    26\n",
      "Yuma AZ-El Centro CA                                   25\n",
      "Bakersfield CA                                         19\n",
      "Medford-Klamath Falls OR                               10\n"
     ]
    }
   ],
   "source": [
    "import pytrends as pt\n",
    "from pytrends.request import TrendReq\n",
    "\n",
    "# Initialize the Google Trends object\n",
    "pytrends = TrendReq()\n",
    "\n",
    "# Define the primary keyword, timeframe, and geo\n",
    "keyword = \"ATM near me\"\n",
    "timeframe = \"today 1-m\"\n",
    "geo = 'US-CA'  \n",
    "\n",
    "# Build the payload with the keyword, timeframe, and geo\n",
    "pytrends.build_payload(kw_list=[keyword], timeframe=timeframe, geo=geo)\n",
    "\n",
    "# Get interest by region data for the keyword\n",
    "interest_by_region = pytrends.interest_by_region()\n",
    "\n",
    "# Sort the results by popularity\n",
    "sorted_regions = interest_by_region.sort_values(by=keyword, ascending=False)\n",
    "\n",
    "print(sorted_regions)\n"
   ]
  },
  {
   "cell_type": "code",
   "execution_count": 17,
   "metadata": {},
   "outputs": [
    {
     "name": "stdout",
     "output_type": "stream",
     "text": [
      "                                              ATM near me\n",
      "geoName                                                  \n",
      "Eureka CA                                             100\n",
      "San Diego CA                                           41\n",
      "Fresno-Visalia CA                                      40\n",
      "Santa Barbara-Santa Maria-San Luis Obispo CA           39\n",
      "San Francisco-Oakland-San Jose CA                      36\n",
      "Los Angeles CA                                         35\n",
      "Sacramento-Stockton-Modesto CA                         34\n",
      "Palm Springs CA                                        32\n",
      "Chico-Redding CA                                       30\n",
      "Reno NV                                                29\n",
      "Monterey-Salinas CA                                    26\n",
      "Yuma AZ-El Centro CA                                   25\n",
      "Bakersfield CA                                         19\n",
      "Medford-Klamath Falls OR                               10\n"
     ]
    }
   ],
   "source": [
    "import pytrends as pt\n",
    "from pytrends.request import TrendReq\n",
    "\n",
    "# Initialize the Google Trends object\n",
    "pytrends = TrendReq()\n",
    "\n",
    "# Define the primary keyword, timeframe, and geo\n",
    "keyword = \"ATM near me\"\n",
    "timeframe = \"today 1-m\"\n",
    "geo = 'US-CA'  # US is the code for the United States\n",
    "\n",
    "# Build the payload with the keyword, timeframe, and geo\n",
    "pytrends.build_payload(kw_list=[keyword], timeframe=timeframe, geo=geo)\n",
    "\n",
    "# Get interest by region data for the keyword at the DMA level\n",
    "interest_by_dma = pytrends.interest_by_region(resolution='DMA')\n",
    "\n",
    "# Sort the results by popularity\n",
    "sorted_dmas = interest_by_dma.sort_values(by=keyword, ascending=False)\n",
    "\n",
    "print(sorted_dmas)\n"
   ]
  },
  {
   "cell_type": "code",
   "execution_count": 19,
   "metadata": {},
   "outputs": [
    {
     "data": {
      "text/plain": [
       "True"
      ]
     },
     "execution_count": 19,
     "metadata": {},
     "output_type": "execute_result"
    }
   ],
   "source": [
    "import pytrends as pt\n",
    "from pytrends.request import TrendReq\n",
    "import folium\n",
    "import webbrowser\n",
    "\n",
    "# Initialize the Google Trends object\n",
    "pytrends = TrendReq()\n",
    "\n",
    "# Define the primary keyword, timeframe, and geo\n",
    "keyword = \"ATM near me\"\n",
    "timeframe = \"today 1-m\"\n",
    "geo = 'US-FL'  # US-FL is the code for Florida, USA\n",
    "\n",
    "# Build the payload with the keyword, timeframe, and geo\n",
    "pytrends.build_payload(kw_list=[keyword], timeframe=timeframe, geo=geo)\n",
    "\n",
    "# Get interest by region data for the keyword at the city level\n",
    "interest_by_city = pytrends.interest_by_region(resolution='CITY')\n",
    "\n",
    "# Create a base map centered around Florida\n",
    "m = folium.Map(location=[27.9944024, -81.7602544], zoom_start=6)\n",
    "\n",
    "# Assuming you have latitude and longitude for each city (you might need to use a library like `geopy` to get coordinates),\n",
    "# add a circle marker for each city with a color code based on interest.\n",
    "# For this example, I'm just using a placeholder latitude and longitude.\n",
    "for city, interest in interest_by_city.iterrows():\n",
    "    folium.CircleMarker(\n",
    "        location=[27.9944024, -81.7602544],  # Placeholder coordinates\n",
    "        radius=5,\n",
    "        color=\"blue\" if interest[keyword] > 50 else \"red\",  # Simple color code: blue for interest > 50, red otherwise\n",
    "        fill=True,\n",
    "        fill_color=\"blue\" if interest[keyword] > 50 else \"red\"\n",
    "    ).add_to(m)\n",
    "\n",
    "# Save to an HTML file\n",
    "map_file = 'florida_interest_map.html'\n",
    "m.save(map_file)\n",
    "\n",
    "# Open the HTML file in a new browser tab\n",
    "webbrowser.open(map_file, new=2)\n",
    "\n"
   ]
  },
  {
   "cell_type": "markdown",
   "metadata": {},
   "source": [
    "(Readme)\n",
    "\n",
    "RESOURCES\n",
    "\n",
    "- Google cagegories & codes   https://github.com/pat310/google-trends-api/wiki/Google-Trends-Categories \n",
    "- Pytrends library            https://pypi.org/project/pytrends/"
   ]
  }
 ],
 "metadata": {
  "kernelspec": {
   "display_name": "Python 3",
   "language": "python",
   "name": "python3"
  },
  "language_info": {
   "codemirror_mode": {
    "name": "ipython",
    "version": 3
   },
   "file_extension": ".py",
   "mimetype": "text/x-python",
   "name": "python",
   "nbconvert_exporter": "python",
   "pygments_lexer": "ipython3",
   "version": "3.11.4"
  },
  "orig_nbformat": 4
 },
 "nbformat": 4,
 "nbformat_minor": 2
}
